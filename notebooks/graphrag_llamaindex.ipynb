{
 "cells": [
  {
   "cell_type": "code",
   "execution_count": 3,
   "metadata": {},
   "outputs": [
    {
     "name": "stderr",
     "output_type": "stream",
     "text": [
      "c:\\Users\\sean.chang\\AppData\\Local\\anaconda3\\envs\\kr\\lib\\site-packages\\tqdm\\auto.py:21: TqdmWarning: IProgress not found. Please update jupyter and ipywidgets. See https://ipywidgets.readthedocs.io/en/stable/user_install.html\n",
      "  from .autonotebook import tqdm as notebook_tqdm\n"
     ]
    }
   ],
   "source": [
    "import re\n",
    "import networkx as nx\n",
    "from graspologic.partition import hierarchical_leiden\n",
    "from collections import defaultdict\n",
    "\n",
    "from llama_index.core.llms import ChatMessage\n",
    "from llama_index.graph_stores.neo4j import Neo4jPropertyGraphStore\n",
    "\n",
    "\n",
    "from llama_index.core.query_engine import CustomQueryEngine\n",
    "from llama_index.core import PropertyGraphIndex"
   ]
  },
  {
   "cell_type": "markdown",
   "metadata": {},
   "source": [
    "### GraphRAGStore"
   ]
  },
  {
   "cell_type": "code",
   "execution_count": 4,
   "metadata": {},
   "outputs": [],
   "source": [
    "class GraphRAGStore(Neo4jPropertyGraphStore):\n",
    "    community_summary = {} # it may not need, prob\n",
    "    \n",
    "    def _create_nx_graph(self):\n",
    "        \"\"\"Convert interal graph representation to NetworkX graph\"\"\"\n",
    "\n",
    "        nx_graph = nx.Graph()\n",
    "        triplets = self.get_triplets()\n",
    "\n",
    "        for entity1, relation, entity2 in triplets:\n",
    "            nx_graph.add_node(entity1.name)\n",
    "            nx_graph.add_node(entity2.name)\n",
    "            nx_graph.add_edge(\n",
    "                relation.source_id,\n",
    "                relation.target_id,\n",
    "                relationship=relation.label,\n",
    "                # description=relation.properties['relationship_description']\n",
    "            )\n",
    "\n",
    "        return nx_graph\n",
    "    \n",
    "\n",
    "    def _collect_community_info(self, nx_graph, clusters):\n",
    "        \"\"\"\n",
    "        Collect information for each node based on their community,\n",
    "        allowing entities to belong to multiple clusters.\n",
    "        \"\"\"\n",
    "        entity_info = defaultdict(set) # for avoiding duplicate (node_id, cluster_id) composition\n",
    "        community_info = defaultdict(list)\n",
    "\n",
    "        for item in clusters:\n",
    "            node = item.node\n",
    "            cluster_id = item.cluster\n",
    "\n",
    "            # Update entity_info by add cluster_id as value, node as key\n",
    "            entity_info[node].add(cluster_id)\n",
    "\n",
    "            for neighbor in nx_graph.neighbors(node):\n",
    "                edge_data = nx_graph.get_edge_data(node, neighbor)\n",
    "                if edge_data:\n",
    "                    detail = f\"{node} -> {neighbor} -> {edge_data['relationship']}\"\n",
    "                    #  detail = f\"{node} -> {neighbor} -> {edge_data['relationship']} -> {edge_data['description']}\"\n",
    "                    community_info[cluster_id].append(detail)\n",
    "\n",
    "        # convert sets to lists for easier serialization if needed\n",
    "        entity_info = {k : list(v) for k, v in entity_info.items()}\n",
    "\n",
    "        # convet to normal dictionary\n",
    "        return dict(entity_info), dict(community_info) "
   ]
  },
  {
   "cell_type": "code",
   "execution_count": 5,
   "metadata": {},
   "outputs": [
    {
     "name": "stdout",
     "output_type": "stream",
     "text": [
      "Entity Info (defaultdict):\n",
      "defaultdict(<class 'set'>, {'node_1': {'cluster_B', 'cluster_A'}, 'node_2': {'cluster_B', 'cluster_A'}, 'node_3': {'cluster_C'}})\n",
      "\n",
      "Entity Info (as dictionary with lists):\n",
      "{'node_1': ['cluster_B', 'cluster_A'], 'node_2': ['cluster_B', 'cluster_A'], 'node_3': ['cluster_C']}\n"
     ]
    }
   ],
   "source": [
    "from collections import defaultdict\n",
    "\n",
    "# Create a defaultdict with set as the default factory\n",
    "entity_info = defaultdict(set)\n",
    "\n",
    "# Sample node-cluster data\n",
    "data = [\n",
    "    (\"node_1\", \"cluster_A\"),\n",
    "    (\"node_1\", \"cluster_B\"),\n",
    "    (\"node_2\", \"cluster_A\"),\n",
    "    (\"node_1\", \"cluster_A\"),  # Duplicate cluster for node_1\n",
    "    (\"node_3\", \"cluster_C\"),\n",
    "    (\"node_2\", \"cluster_B\"),\n",
    "    (\"node_1\", \"cluster_B\"),  # Duplicate cluster for node_1\n",
    "]\n",
    "\n",
    "# Adding nodes and cluster associations\n",
    "for node, cluster in data:\n",
    "    entity_info[node].add(cluster)\n",
    "\n",
    "# Convert to dictionary for better visualization\n",
    "entity_info_dict = {k: list(v) for k, v in entity_info.items()}\n",
    "\n",
    "# Output the result\n",
    "print(\"Entity Info (defaultdict):\")\n",
    "print(entity_info)\n",
    "print(\"\\nEntity Info (as dictionary with lists):\")\n",
    "print(entity_info_dict)\n"
   ]
  },
  {
   "cell_type": "code",
   "execution_count": 6,
   "metadata": {},
   "outputs": [
    {
     "data": {
      "text/plain": [
       "defaultdict(set,\n",
       "            {'node_1': {'cluster_A', 'cluster_B'},\n",
       "             'node_2': {'cluster_A', 'cluster_B'},\n",
       "             'node_3': {'cluster_C'}})"
      ]
     },
     "execution_count": 6,
     "metadata": {},
     "output_type": "execute_result"
    }
   ],
   "source": [
    "entity_info"
   ]
  },
  {
   "cell_type": "code",
   "execution_count": 7,
   "metadata": {},
   "outputs": [
    {
     "data": {
      "text/plain": [
       "True"
      ]
     },
     "execution_count": 7,
     "metadata": {},
     "output_type": "execute_result"
    }
   ],
   "source": [
    "entity_info == dict(entity_info)"
   ]
  },
  {
   "cell_type": "markdown",
   "metadata": {},
   "source": [
    "### GraphRAGQueryEngine"
   ]
  },
  {
   "cell_type": "code",
   "execution_count": 8,
   "metadata": {},
   "outputs": [],
   "source": [
    "class GraphRAGQueryEngine(CustomQueryEngine):\n",
    "    graph_store: GraphRAGStore # for getting summary\n",
    "    index: PropertyGraphIndex # iniciate it needs PropertyGraphIndex type\n",
    "\n",
    "    similarity_top_k: int = 20\n",
    "\n",
    "    def get_entities(self, query_str, similarity_top_k):\n",
    "        nodes_retrived = self.index.as_retriever(\n",
    "            similarity_top_k=similarity_top_k\n",
    "        ).retrieve(query_str)\n",
    "\n",
    "        entities = set()\n",
    "\n",
    "        pattern = (\n",
    "            r\"^(\\w+(?:\\s+\\w+)*)\\s*->\\s*([a-zA-Z\\s]+?)\\s*->\\s*(\\w+(?:\\s+\\w+)*)$\"\n",
    "        )\n",
    "\n",
    "        for node in nodes_retrived:\n",
    "            matches = re.findall(\n",
    "                pattern, node.text, re.MULTILINE | re.IGNORECASE\n",
    "            )\n",
    "\n",
    "            for match in matches:\n",
    "                subject = match[0]\n",
    "                object = match[2]\n",
    "                entities.add(subject)\n",
    "                entities.add(object)\n",
    "\n",
    "\n",
    "        return list(entities)"
   ]
  },
  {
   "cell_type": "markdown",
   "metadata": {},
   "source": [
    "### Pipeline"
   ]
  },
  {
   "cell_type": "code",
   "execution_count": 10,
   "metadata": {},
   "outputs": [],
   "source": [
    "graph_store = GraphRAGStore(\n",
    "    username='neo4j',\n",
    "    password='yfy12345',\n",
    "    url='bolt://localhost:7687'\n",
    ")"
   ]
  },
  {
   "cell_type": "code",
   "execution_count": 11,
   "metadata": {},
   "outputs": [
    {
     "data": {
      "text/plain": [
       "<__main__.GraphRAGStore at 0x2976746fbb0>"
      ]
     },
     "execution_count": 11,
     "metadata": {},
     "output_type": "execute_result"
    }
   ],
   "source": [
    "graph_store"
   ]
  }
 ],
 "metadata": {
  "kernelspec": {
   "display_name": "kr",
   "language": "python",
   "name": "python3"
  },
  "language_info": {
   "codemirror_mode": {
    "name": "ipython",
    "version": 3
   },
   "file_extension": ".py",
   "mimetype": "text/x-python",
   "name": "python",
   "nbconvert_exporter": "python",
   "pygments_lexer": "ipython3",
   "version": "3.10.15"
  }
 },
 "nbformat": 4,
 "nbformat_minor": 2
}

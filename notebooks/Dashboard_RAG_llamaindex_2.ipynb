{
 "cells": [
  {
   "cell_type": "markdown",
   "metadata": {},
   "source": [
    "# Features\n",
    "\n",
    "1. Vector storage\n",
    "2. Retriver\n",
    "3. Chat engine\n",
    "4. Memory system\n",
    "5. Conversational query \n",
    "6. Conversational query with memory"
   ]
  },
  {
   "cell_type": "code",
   "execution_count": 1,
   "metadata": {},
   "outputs": [
    {
     "name": "stderr",
     "output_type": "stream",
     "text": [
      "e:\\miniconda3\\envs\\bibot\\lib\\site-packages\\tqdm\\auto.py:21: TqdmWarning: IProgress not found. Please update jupyter and ipywidgets. See https://ipywidgets.readthedocs.io/en/stable/user_install.html\n",
      "  from .autonotebook import tqdm as notebook_tqdm\n"
     ]
    }
   ],
   "source": [
    "import pandas as pd\n",
    "from datetime import datetime\n",
    "\n",
    "from IPython.display import display\n",
    "from IPython.display import Markdown\n",
    "\n",
    "import google.generativeai as genai\n",
    "\n",
    "from utils import read_config, OracleAgent\n",
    "\n",
    "from llama_index.core.schema import Document\n",
    "from llama_index.core import VectorStoreIndex, StorageContext, Settings\n",
    "from llama_index.vector_stores.chroma import ChromaVectorStore\n",
    "from llama_index.embeddings.huggingface import HuggingFaceEmbedding\n",
    "from llama_index.llms.gemini import Gemini\n",
    "\n",
    "import chromadb"
   ]
  },
  {
   "cell_type": "code",
   "execution_count": 2,
   "metadata": {},
   "outputs": [],
   "source": [
    "info_path = '.env/info.json'\n",
    "info = read_config(info_path)\n",
    "\n",
    "oracle_agent = OracleAgent(info['DW_conn_info'])\n",
    "\n",
    "API_KEY= info['gkey']\n",
    "genai.configure(api_key=API_KEY)\n",
    "model = genai.GenerativeModel('gemini-1.5-flash')\n"
   ]
  },
  {
   "cell_type": "code",
   "execution_count": 21,
   "metadata": {},
   "outputs": [],
   "source": [
    "query = \"\"\"\n",
    "select dashboard_name, report_name, page_name, pic_name, llm as description, llm_question as questions\n",
    "from bi_dashboard\n",
    "\"\"\"\n",
    "\n",
    "df_dashboard = oracle_agent.read_table(query=query)\n"
   ]
  },
  {
   "cell_type": "code",
   "execution_count": 4,
   "metadata": {},
   "outputs": [],
   "source": [
    "# df_dashboard = pd.read_csv('files/dashboard_data.csv', encoding='utf-16')"
   ]
  },
  {
   "cell_type": "code",
   "execution_count": 31,
   "metadata": {},
   "outputs": [
    {
     "data": {
      "text/html": [
       "<div>\n",
       "<style scoped>\n",
       "    .dataframe tbody tr th:only-of-type {\n",
       "        vertical-align: middle;\n",
       "    }\n",
       "\n",
       "    .dataframe tbody tr th {\n",
       "        vertical-align: top;\n",
       "    }\n",
       "\n",
       "    .dataframe thead th {\n",
       "        text-align: right;\n",
       "    }\n",
       "</style>\n",
       "<table border=\"1\" class=\"dataframe\">\n",
       "  <thead>\n",
       "    <tr style=\"text-align: right;\">\n",
       "      <th></th>\n",
       "      <th>dashboard_name</th>\n",
       "      <th>report_name</th>\n",
       "      <th>page_name</th>\n",
       "      <th>pic_name</th>\n",
       "      <th>description</th>\n",
       "      <th>questions</th>\n",
       "    </tr>\n",
       "  </thead>\n",
       "  <tbody>\n",
       "    <tr>\n",
       "      <th>0</th>\n",
       "      <td>投控經營分析</td>\n",
       "      <td>華紙-營運績效分析月報</td>\n",
       "      <td>紙機生產狀況</td>\n",
       "      <td>紙機生產狀況-得率趨勢圖.jpg</td>\n",
       "      <td>這張圖表顯示的是 2024 年 1 月到 5 月的月度效率數據。圖表上的數字代表各個月的效率...</td>\n",
       "      <td>這張圖片顯示了華紙在2024年1月到5月的紙機生產狀況，以下列出10個關於這張圖片的問題：\\...</td>\n",
       "    </tr>\n",
       "    <tr>\n",
       "      <th>1</th>\n",
       "      <td>投控經營分析</td>\n",
       "      <td>華紙-營運績效分析月報</td>\n",
       "      <td>號機直接法損益</td>\n",
       "      <td>號機直接法損益-完整畫面.jpg</td>\n",
       "      <td>這張圖片包含了一份營運績效分析月報，其中包含以下指標：\\n\\n**成本**:\\n* 銷貨成本...</td>\n",
       "      <td>這張圖片顯示了華紙的營運績效分析月報，可以回答以下問題：\\n\\n1. **華紙的總成本是多少...</td>\n",
       "    </tr>\n",
       "    <tr>\n",
       "      <th>2</th>\n",
       "      <td>投控經營分析</td>\n",
       "      <td>華紙-營運績效分析日報</td>\n",
       "      <td>工廠面</td>\n",
       "      <td>工廠面3.JPG</td>\n",
       "      <td>這張圖片包含報表，包含投控經營分析華紙-營運績效分析日報工廠面的一些相關分析指標。\\n\\n*...</td>\n",
       "      <td>這張圖片顯示的是工廠生產相關的數據，可以提出以下問題：\\n\\n1.  今日生產的紙張總量是多...</td>\n",
       "    </tr>\n",
       "    <tr>\n",
       "      <th>3</th>\n",
       "      <td>投控經營分析</td>\n",
       "      <td>華紙-營運績效分析月報</td>\n",
       "      <td>銷售面</td>\n",
       "      <td>銷售面-事故金額狀況.jpg</td>\n",
       "      <td>這張圖片顯示了**華紙-營運績效分析月報銷售面**的數據，以柱狀圖的形式呈現。 \\n\\n**...</td>\n",
       "      <td>這張圖片顯示的是華紙-營運績效分析月報銷售面的數據，可以回答以下問題：\\n\\n1. 2024...</td>\n",
       "    </tr>\n",
       "    <tr>\n",
       "      <th>4</th>\n",
       "      <td>投控經營分析</td>\n",
       "      <td>華紙-營運績效分析月報</td>\n",
       "      <td>漿線生產狀況</td>\n",
       "      <td>漿線生產狀況-停機時間.jpg</td>\n",
       "      <td>這張圖片只顯示了一項指標：**停機時間**，單位為分鐘，數值为50,750。\\n\\n如果需要...</td>\n",
       "      <td>這張圖片只顯示一個標題「停機時間（Min）」和一個單純的藍色圓形，以及下方顯示「非計劃停機 ...</td>\n",
       "    </tr>\n",
       "    <tr>\n",
       "      <th>5</th>\n",
       "      <td>投控經營分析</td>\n",
       "      <td>華紙-營運績效分析月報</td>\n",
       "      <td>事業部層</td>\n",
       "      <td>事業部層-全廠損益.jpg</td>\n",
       "      <td>這張圖片顯示了一份華紙營運績效分析月報，包含了各事業部的相關分析指標。表格中顯示了以下指標：...</td>\n",
       "      <td>這張圖片是華紙-營運績效分析月報事業部層的報表，可以回答以下10個問題：\\n\\n1. 202...</td>\n",
       "    </tr>\n",
       "    <tr>\n",
       "      <th>6</th>\n",
       "      <td>投控經營分析</td>\n",
       "      <td>華紙-營運績效分析日報</td>\n",
       "      <td>工廠面</td>\n",
       "      <td>工廠面2.JPG</td>\n",
       "      <td>這張圖片顯示的數據包含生產、庫存和能源指標，以及環境指標。\\n\\n**生產指標**\\n\\n*...</td>\n",
       "      <td>這張圖片展示了華紙工廠的營運績效數據，可以回答以下10個問題：\\n\\n1. 今日的生產效率 ...</td>\n",
       "    </tr>\n",
       "    <tr>\n",
       "      <th>7</th>\n",
       "      <td>投控經營分析</td>\n",
       "      <td>華紙-營運績效分析日報</td>\n",
       "      <td>生產面</td>\n",
       "      <td>漿線生產指標.JPG</td>\n",
       "      <td>這張圖片顯示了生產生活指標，包含以下資訊：\\n\\n* **殘餘金額**：32（金）\\n* *...</td>\n",
       "      <td>這張圖片顯示了生產線的生產資訊，可以回答以下問題：\\n\\n1. 生產線的名稱是什麼？\\n2....</td>\n",
       "    </tr>\n",
       "    <tr>\n",
       "      <th>8</th>\n",
       "      <td>投控經營分析</td>\n",
       "      <td>華紙-營運績效分析日報</td>\n",
       "      <td>銷售面</td>\n",
       "      <td>銷售面4.JPG</td>\n",
       "      <td>這張圖表顯示了四個類別的數據在六個月的時間序列中的變化。\\n\\n圖表中的指標包括：\\n\\n*...</td>\n",
       "      <td>這張圖片顯示了華紙在 2024 年 1 月到 6 月的庫存狀態，以圖表的形式呈現。以下是 1...</td>\n",
       "    </tr>\n",
       "    <tr>\n",
       "      <th>9</th>\n",
       "      <td>投控經營分析</td>\n",
       "      <td>華紙-營運績效分析月報</td>\n",
       "      <td>銷售面</td>\n",
       "      <td>銷售面-銷售量區域分布圖.jpg</td>\n",
       "      <td>這張圖片顯示了銷售區域分布圖，分成內銷與外銷。\\n\\n**內銷**部分顯示了台灣各地銷售金額...</td>\n",
       "      <td>這張圖片包含銷售區域分布圖，可以回答以下問題：\\n\\n1. 銷售區域分佈圖中，內銷和外銷分別...</td>\n",
       "    </tr>\n",
       "    <tr>\n",
       "      <th>10</th>\n",
       "      <td>投控經營分析</td>\n",
       "      <td>華紙-營運績效分析月報</td>\n",
       "      <td>紙機別損益</td>\n",
       "      <td>紙機別損益-完整畫面.jpg</td>\n",
       "      <td>This table shows the monthly operational perfo...</td>\n",
       "      <td>這張圖片看起來像一張營運績效分析月報表，它呈現了華紙的營運狀況，可以回答以下問題：\\n\\n1...</td>\n",
       "    </tr>\n",
       "    <tr>\n",
       "      <th>11</th>\n",
       "      <td>投控經營分析</td>\n",
       "      <td>華紙-營運績效分析月報</td>\n",
       "      <td>紙機生產狀況</td>\n",
       "      <td>紙機生產狀況-月產趨勢圖.jpg</td>\n",
       "      <td>這張圖顯示的是 **2024 年每月紙機生產量** 的數據。圖表顯示了每個月的紙機生產量，單...</td>\n",
       "      <td>這張圖片顯示了2024年每月紙機生產狀況，以下是一些可能的問題：\\n\\n1. **2024年...</td>\n",
       "    </tr>\n",
       "    <tr>\n",
       "      <th>12</th>\n",
       "      <td>投控經營分析</td>\n",
       "      <td>華紙-營運績效分析月報</td>\n",
       "      <td>工廠層</td>\n",
       "      <td>工廠層-字卡1.jpg</td>\n",
       "      <td>這張圖片包含了以下分析指標：\\n* 銷售值(仟元)\\n* 銷售量(T)\\n* 損益(仟元)\\...</td>\n",
       "      <td>這張圖片顯示了華紙工廠層月報的營運績效分析的一些指標。以下是一些可以回答的問題：\\n\\n1....</td>\n",
       "    </tr>\n",
       "    <tr>\n",
       "      <th>13</th>\n",
       "      <td>投控經營分析</td>\n",
       "      <td>華紙-營運績效分析日報</td>\n",
       "      <td>工廠面</td>\n",
       "      <td>工廠面1.JPG</td>\n",
       "      <td>這張圖包含以下分析指標:\\n\\n**生產指標**\\n* OEE\\n* 良品率\\n\\n**能源...</td>\n",
       "      <td>這張圖片顯示了華紙工廠的營運績效分析日報，可以回答以下問題：\\n\\n1. 今天的 OEE 值...</td>\n",
       "    </tr>\n",
       "    <tr>\n",
       "      <th>14</th>\n",
       "      <td>投控經營分析</td>\n",
       "      <td>華紙-營運績效分析日報</td>\n",
       "      <td>生產面</td>\n",
       "      <td>紙機生產指標.jpg</td>\n",
       "      <td>這張圖片顯示的是生產日報的分析指標，包含以下內容：\\n\\n* **速度**\\n* **日排程...</td>\n",
       "      <td>這張圖顯示了紙漿生產的相關數據，從圖中可以得到以下資訊：\\n\\n1. **什麼是 PM01？...</td>\n",
       "    </tr>\n",
       "  </tbody>\n",
       "</table>\n",
       "</div>"
      ],
      "text/plain": [
       "   dashboard_name  report_name page_name          pic_name  \\\n",
       "0          投控經營分析  華紙-營運績效分析月報    紙機生產狀況  紙機生產狀況-得率趨勢圖.jpg   \n",
       "1          投控經營分析  華紙-營運績效分析月報   號機直接法損益  號機直接法損益-完整畫面.jpg   \n",
       "2          投控經營分析  華紙-營運績效分析日報       工廠面          工廠面3.JPG   \n",
       "3          投控經營分析  華紙-營運績效分析月報       銷售面    銷售面-事故金額狀況.jpg   \n",
       "4          投控經營分析  華紙-營運績效分析月報    漿線生產狀況   漿線生產狀況-停機時間.jpg   \n",
       "5          投控經營分析  華紙-營運績效分析月報      事業部層     事業部層-全廠損益.jpg   \n",
       "6          投控經營分析  華紙-營運績效分析日報       工廠面          工廠面2.JPG   \n",
       "7          投控經營分析  華紙-營運績效分析日報       生產面        漿線生產指標.JPG   \n",
       "8          投控經營分析  華紙-營運績效分析日報       銷售面          銷售面4.JPG   \n",
       "9          投控經營分析  華紙-營運績效分析月報       銷售面  銷售面-銷售量區域分布圖.jpg   \n",
       "10         投控經營分析  華紙-營運績效分析月報     紙機別損益    紙機別損益-完整畫面.jpg   \n",
       "11         投控經營分析  華紙-營運績效分析月報    紙機生產狀況  紙機生產狀況-月產趨勢圖.jpg   \n",
       "12         投控經營分析  華紙-營運績效分析月報       工廠層       工廠層-字卡1.jpg   \n",
       "13         投控經營分析  華紙-營運績效分析日報       工廠面          工廠面1.JPG   \n",
       "14         投控經營分析  華紙-營運績效分析日報       生產面        紙機生產指標.jpg   \n",
       "\n",
       "                                          description  \\\n",
       "0   這張圖表顯示的是 2024 年 1 月到 5 月的月度效率數據。圖表上的數字代表各個月的效率...   \n",
       "1   這張圖片包含了一份營運績效分析月報，其中包含以下指標：\\n\\n**成本**:\\n* 銷貨成本...   \n",
       "2   這張圖片包含報表，包含投控經營分析華紙-營運績效分析日報工廠面的一些相關分析指標。\\n\\n*...   \n",
       "3   這張圖片顯示了**華紙-營運績效分析月報銷售面**的數據，以柱狀圖的形式呈現。 \\n\\n**...   \n",
       "4   這張圖片只顯示了一項指標：**停機時間**，單位為分鐘，數值为50,750。\\n\\n如果需要...   \n",
       "5   這張圖片顯示了一份華紙營運績效分析月報，包含了各事業部的相關分析指標。表格中顯示了以下指標：...   \n",
       "6   這張圖片顯示的數據包含生產、庫存和能源指標，以及環境指標。\\n\\n**生產指標**\\n\\n*...   \n",
       "7   這張圖片顯示了生產生活指標，包含以下資訊：\\n\\n* **殘餘金額**：32（金）\\n* *...   \n",
       "8   這張圖表顯示了四個類別的數據在六個月的時間序列中的變化。\\n\\n圖表中的指標包括：\\n\\n*...   \n",
       "9   這張圖片顯示了銷售區域分布圖，分成內銷與外銷。\\n\\n**內銷**部分顯示了台灣各地銷售金額...   \n",
       "10  This table shows the monthly operational perfo...   \n",
       "11  這張圖顯示的是 **2024 年每月紙機生產量** 的數據。圖表顯示了每個月的紙機生產量，單...   \n",
       "12  這張圖片包含了以下分析指標：\\n* 銷售值(仟元)\\n* 銷售量(T)\\n* 損益(仟元)\\...   \n",
       "13  這張圖包含以下分析指標:\\n\\n**生產指標**\\n* OEE\\n* 良品率\\n\\n**能源...   \n",
       "14  這張圖片顯示的是生產日報的分析指標，包含以下內容：\\n\\n* **速度**\\n* **日排程...   \n",
       "\n",
       "                                            questions  \n",
       "0   這張圖片顯示了華紙在2024年1月到5月的紙機生產狀況，以下列出10個關於這張圖片的問題：\\...  \n",
       "1   這張圖片顯示了華紙的營運績效分析月報，可以回答以下問題：\\n\\n1. **華紙的總成本是多少...  \n",
       "2   這張圖片顯示的是工廠生產相關的數據，可以提出以下問題：\\n\\n1.  今日生產的紙張總量是多...  \n",
       "3   這張圖片顯示的是華紙-營運績效分析月報銷售面的數據，可以回答以下問題：\\n\\n1. 2024...  \n",
       "4   這張圖片只顯示一個標題「停機時間（Min）」和一個單純的藍色圓形，以及下方顯示「非計劃停機 ...  \n",
       "5   這張圖片是華紙-營運績效分析月報事業部層的報表，可以回答以下10個問題：\\n\\n1. 202...  \n",
       "6   這張圖片展示了華紙工廠的營運績效數據，可以回答以下10個問題：\\n\\n1. 今日的生產效率 ...  \n",
       "7   這張圖片顯示了生產線的生產資訊，可以回答以下問題：\\n\\n1. 生產線的名稱是什麼？\\n2....  \n",
       "8   這張圖片顯示了華紙在 2024 年 1 月到 6 月的庫存狀態，以圖表的形式呈現。以下是 1...  \n",
       "9   這張圖片包含銷售區域分布圖，可以回答以下問題：\\n\\n1. 銷售區域分佈圖中，內銷和外銷分別...  \n",
       "10  這張圖片看起來像一張營運績效分析月報表，它呈現了華紙的營運狀況，可以回答以下問題：\\n\\n1...  \n",
       "11  這張圖片顯示了2024年每月紙機生產狀況，以下是一些可能的問題：\\n\\n1. **2024年...  \n",
       "12  這張圖片顯示了華紙工廠層月報的營運績效分析的一些指標。以下是一些可以回答的問題：\\n\\n1....  \n",
       "13  這張圖片顯示了華紙工廠的營運績效分析日報，可以回答以下問題：\\n\\n1. 今天的 OEE 值...  \n",
       "14  這張圖顯示了紙漿生產的相關數據，從圖中可以得到以下資訊：\\n\\n1. **什麼是 PM01？...  "
      ]
     },
     "execution_count": 31,
     "metadata": {},
     "output_type": "execute_result"
    }
   ],
   "source": [
    "df_dashboard.head(15)"
   ]
  },
  {
   "cell_type": "code",
   "execution_count": 30,
   "metadata": {},
   "outputs": [
    {
     "name": "stdout",
     "output_type": "stream",
     "text": [
      "這張圖片只顯示了一項指標：**停機時間**，單位為分鐘，數值为50,750。\n",
      "\n",
      "如果需要其他指標，請提供圖片或更多資訊。\n",
      "\n"
     ]
    }
   ],
   "source": [
    "print(df_dashboard[df_dashboard['pic_name'] == '漿線生產狀況-停機時間.jpg']['description'].values[0])"
   ]
  },
  {
   "cell_type": "code",
   "execution_count": 6,
   "metadata": {},
   "outputs": [],
   "source": [
    "df_dashboard['DashQA'] = \"Question: \\n\" + df_dashboard['description'] + \"\\n\\n\" + \"Answer: \\n\" + df_dashboard['questions']"
   ]
  },
  {
   "cell_type": "code",
   "execution_count": 7,
   "metadata": {},
   "outputs": [
    {
     "name": "stdout",
     "output_type": "stream",
     "text": [
      "Question: \n",
      "這張圖表顯示的是 2024 年 1 月到 5 月的月度效率數據。圖表上的數字代表各個月的效率百分比。 \n",
      "\n",
      "您可以查詢：\n",
      "\n",
      "- **效率**（以百分比顯示）： 圖表顯示了每個月的效率，從 1 月到 5 月。\n",
      "- **月份**： 圖表顯示了每個月的效率，從 1 月到 5 月。\n",
      "- **2024 年**： 圖表顯示了 2024 年的數據。\n",
      "\n",
      "圖表中缺少 6 月份的數據。\n",
      "\n",
      "Answer: \n",
      "這張圖片顯示了華紙在2024年1月到5月的紙機生產狀況，以下列出10個關於這張圖片的問題：\n",
      "\n",
      "1. 圖表顯示的是哪個月的紙機生產狀況？\n",
      "2. 圖表的縱軸代表什麼？\n",
      "3. 1月份的紙機生產狀況如何？\n",
      "4. 2月份的紙機生產狀況如何？\n",
      "5. 3月份的紙機生產狀況如何？\n",
      "6. 4月份的紙機生產狀況如何？\n",
      "7. 5月份的紙機生產狀況如何？\n",
      "8. 6月份的紙機生產狀況如何？\n",
      "9. 2024年1月到5月之間，哪個月的紙機生產狀況最好？\n",
      "10. 2024年1月到5月之間，哪個月的紙機生產狀況最差？\n",
      "\n"
     ]
    }
   ],
   "source": [
    "print(df_dashboard['DashQA'].iloc[0])"
   ]
  },
  {
   "cell_type": "code",
   "execution_count": 8,
   "metadata": {},
   "outputs": [],
   "source": [
    "df_dashboard = df_dashboard.drop(['description', 'questions'], axis=1)"
   ]
  },
  {
   "cell_type": "code",
   "execution_count": 9,
   "metadata": {},
   "outputs": [],
   "source": [
    "model_name = \"sentence-transformers/distiluse-base-multilingual-cased-v1\"\n",
    "embeddings = HuggingFaceEmbedding(model_name=model_name)"
   ]
  },
  {
   "cell_type": "code",
   "execution_count": 10,
   "metadata": {},
   "outputs": [],
   "source": [
    "chroma_client = chromadb.PersistentClient(path=\"./chroma_db\")\n",
    "chroma_collection = chroma_client.get_or_create_collection(\"DashboardQA\")"
   ]
  },
  {
   "cell_type": "code",
   "execution_count": 11,
   "metadata": {},
   "outputs": [],
   "source": [
    "def df_to_documents(df, column):\n",
    "    return [Document(text=row[column], metadata={col: row[col] for col in df.columns if col != column}) for _, row in df.iterrows()]"
   ]
  },
  {
   "cell_type": "code",
   "execution_count": 12,
   "metadata": {},
   "outputs": [],
   "source": [
    "documents = df_to_documents(df_dashboard, column='DashQA')"
   ]
  },
  {
   "cell_type": "code",
   "execution_count": 13,
   "metadata": {},
   "outputs": [
    {
     "data": {
      "text/plain": [
       "[Document(id_='d7f790b1-2002-4b5f-bb16-93dc4bbda372', embedding=None, metadata={'dashboard_name': '投控經營分析', 'report_name': '華紙-營運績效分析月報', 'page_name': '紙機生產狀況', 'pic_name': '紙機生產狀況-得率趨勢圖.jpg'}, excluded_embed_metadata_keys=[], excluded_llm_metadata_keys=[], relationships={}, text='Question: \\n這張圖表顯示的是 2024 年 1 月到 5 月的月度效率數據。圖表上的數字代表各個月的效率百分比。 \\n\\n您可以查詢：\\n\\n- **效率**（以百分比顯示）： 圖表顯示了每個月的效率，從 1 月到 5 月。\\n- **月份**： 圖表顯示了每個月的效率，從 1 月到 5 月。\\n- **2024 年**： 圖表顯示了 2024 年的數據。\\n\\n圖表中缺少 6 月份的數據。\\n\\nAnswer: \\n這張圖片顯示了華紙在2024年1月到5月的紙機生產狀況，以下列出10個關於這張圖片的問題：\\n\\n1. 圖表顯示的是哪個月的紙機生產狀況？\\n2. 圖表的縱軸代表什麼？\\n3. 1月份的紙機生產狀況如何？\\n4. 2月份的紙機生產狀況如何？\\n5. 3月份的紙機生產狀況如何？\\n6. 4月份的紙機生產狀況如何？\\n7. 5月份的紙機生產狀況如何？\\n8. 6月份的紙機生產狀況如何？\\n9. 2024年1月到5月之間，哪個月的紙機生產狀況最好？\\n10. 2024年1月到5月之間，哪個月的紙機生產狀況最差？\\n', mimetype='text/plain', start_char_idx=None, end_char_idx=None, text_template='{metadata_str}\\n\\n{content}', metadata_template='{key}: {value}', metadata_seperator='\\n'),\n",
       " Document(id_='d464c341-52ea-4226-aa36-6b054c198bc9', embedding=None, metadata={'dashboard_name': '投控經營分析', 'report_name': '華紙-營運績效分析月報', 'page_name': '號機直接法損益', 'pic_name': '號機直接法損益-完整畫面.jpg'}, excluded_embed_metadata_keys=[], excluded_llm_metadata_keys=[], relationships={}, text='Question: \\n這張圖片包含了一份營運績效分析月報，其中包含以下指標：\\n\\n**成本**:\\n* 銷貨成本\\n* 原物料成本\\n* 燃料\\n* 其他成本\\n\\n**銷售**:\\n* 銷貨收入\\n* 營業成本\\n* 營業毛利\\n* 營業費用\\n\\n**費用**:\\n* 製造費用\\n* 銷售費用\\n* 管理費用\\n\\n**淨利**:\\n* 稅前淨利\\n* 稅後淨利\\n\\n**其他**:\\n* 損益表\\n* 損益\\n* 銷售額\\n* 銷貨量\\n* 存貨\\n* 應收帳款\\n* 應付帳款\\n* 固定資產\\n* 流動資產\\n* 負債\\n* 股東權益\\n\\n這些指標可以幫助使用者了解公司在特定時期的財務狀況和營運績效。\\n\\n\\nAnswer: \\n這張圖片顯示了華紙的營運績效分析月報，可以回答以下問題：\\n\\n1. **華紙的總成本是多少？** \\n2. **PM01 的銷售成本是多少？** \\n3. **PM02 的毛利是多少？** \\n4. **總公司的管理費用是多少？** \\n5. **PM01 的固定銷售費用是多少？** \\n6. **PM02 的固定銷售研發是多少？** \\n7. **總公司的營業收入是多少？** \\n8. **總公司的營業利益是多少？** \\n9. **總公司的稅前淨利是多少？** \\n10. **總公司的稅後淨利是多少？**\\n', mimetype='text/plain', start_char_idx=None, end_char_idx=None, text_template='{metadata_str}\\n\\n{content}', metadata_template='{key}: {value}', metadata_seperator='\\n'),\n",
       " Document(id_='f71603f2-acb8-41be-a475-f18bc3d7ff20', embedding=None, metadata={'dashboard_name': '投控經營分析', 'report_name': '華紙-營運績效分析日報', 'page_name': '工廠面', 'pic_name': '工廠面3.JPG'}, excluded_embed_metadata_keys=[], excluded_llm_metadata_keys=[], relationships={}, text='Question: \\n這張圖片包含報表，包含投控經營分析華紙-營運績效分析日報工廠面的一些相關分析指標。\\n\\n**生產指標：**\\n\\n- OEE：79.01%\\n- 效率：78.35%\\n\\n**庫存指標：**\\n\\n- 纖維庫存量：(T)\\n- 今日進料量：133.75 (T)\\n- 今日耗用量：83.68 (T)\\n- TOCC庫存量：1,408 (T)\\n- 今日進料量：217 (T)\\n- 今日耗用量：100 (T)\\n- 煤炭庫存量：(T)\\n- 已備在途量：(T)\\n- 今日進料量：171.72 (T)\\n- 今日耗用量：(T)\\n- 油的庫存量：123.84 (T)\\n- 今日進料量：(T)\\n- 今日耗用量：0.25 (T)\\n\\n**能源指標(紙機)：**\\n\\n- 紙漿量：(T)\\n- 噸紙汽量：(T)\\n- 噸紙電量：(T)\\n\\n**環保指標：**\\n\\n- 累積空氣排放超標次數：0 (次)\\n- 累積水排放超標次數：0 (次)\\n- 水質檢測：\\n    - 溫度：36.28\\n    - PH：7.49\\n    - COD：117.53\\n    - SS：13.00\\n- 空氣檢測：\\n    - SO2：5,425\\n    - NOx：128,029\\n    - OP：6\\n\\n這些指標可以幫助相關人員了解工廠的生產效率、庫存狀況、能源消耗和環保表現。\\n\\nAnswer: \\n這張圖片顯示的是工廠生產相關的數據，可以提出以下問題：\\n\\n1.  今日生產的紙張總量是多少？\\n2.  今日消耗的燃煤量是多少？\\n3.  今日消耗的油量是多少？\\n4.  目前的紙張庫存量是多少？\\n5.  目前的燃煤庫存量是多少？\\n6.  目前的油庫存量是多少？\\n7.  今日生產效率的 OEE 值是多少？\\n8.  今日生產效率的良率是多少？\\n9.  今日排放的 SO2 量是多少？\\n10. 今日排放的 NOx 量是多少？\\n', mimetype='text/plain', start_char_idx=None, end_char_idx=None, text_template='{metadata_str}\\n\\n{content}', metadata_template='{key}: {value}', metadata_seperator='\\n'),\n",
       " Document(id_='0db38399-913c-408f-aee2-6af76b114295', embedding=None, metadata={'dashboard_name': '投控經營分析', 'report_name': '華紙-營運績效分析月報', 'page_name': '銷售面', 'pic_name': '銷售面-事故金額狀況.jpg'}, excluded_embed_metadata_keys=[], excluded_llm_metadata_keys=[], relationships={}, text='Question: \\n這張圖片顯示了**華紙-營運績效分析月報銷售面**的數據，以柱狀圖的形式呈現。 \\n\\n**圖表中的分析指標包括：**\\n\\n* **時間軸：** 2024/01 到 2024/07\\n* **銷售金額：** 每個月份的總銷售金額，單位為仟元\\n* **銷售項目：** \\n    * **花蓮廠**\\n    * **總公司**\\n    * **新舊廠**\\n    * **合資廠**\\n    * **久堂廠**\\n\\n**圖表可以幫助你了解**：\\n\\n* 每個月份的總銷售金額\\n* 不同銷售項目在每個月份的銷售額\\n* 不同銷售項目的銷售額佔總銷售額的比例\\n\\n**你可以使用這張圖表查詢**：\\n\\n* 某個月份的總銷售金額\\n* 某個銷售項目的銷售額\\n* 某個銷售項目在某個月份的銷售額\\n\\n**請注意**：\\n\\n* 圖表僅顯示銷售額，未顯示其他指標，例如成本、利潤等。\\n* 圖表數據可能為預估值，實際數據可能有所差異。\\n\\n\\nAnswer: \\n這張圖片顯示的是華紙-營運績效分析月報銷售面的數據，可以回答以下問題：\\n\\n1. 2024年1月至7月華紙的總銷售額是多少？\\n2. 2024年1月至7月華紙的銷售額逐月變化趨勢如何？\\n3. 2024年1月至7月華紙的花色紙銷售額分別是多少？\\n4. 2024年1月至7月華紙的總公司銷售額分別是多少？\\n5. 2024年1月至7月華紙的新舊版銷售額分別是多少？\\n6. 2024年1月至7月華紙的合資版銷售額分別是多少？\\n7. 2024年1月至7月華紙的久售版銷售額分別是多少？\\n8. 2024年1月至7月哪個月的銷售額最高？\\n9. 2024年1月至7月哪個月的銷售額最低？\\n10. 哪種銷售產品在2024年1月至7月期間的銷售額最穩定？', mimetype='text/plain', start_char_idx=None, end_char_idx=None, text_template='{metadata_str}\\n\\n{content}', metadata_template='{key}: {value}', metadata_seperator='\\n'),\n",
       " Document(id_='6d1e9a62-484e-4e07-bd1d-d38840cd6d1a', embedding=None, metadata={'dashboard_name': '投控經營分析', 'report_name': '華紙-營運績效分析月報', 'page_name': '漿線生產狀況', 'pic_name': '漿線生產狀況-停機時間.jpg'}, excluded_embed_metadata_keys=[], excluded_llm_metadata_keys=[], relationships={}, text='Question: \\n這張圖片只顯示了一項指標：**停機時間**，單位為分鐘，數值为50,750。\\n\\n如果需要其他指標，請提供圖片或更多資訊。\\n\\n\\nAnswer: \\n這張圖片只顯示一個標題「停機時間（Min）」和一個單純的藍色圓形，以及下方顯示「非計劃停機 50,750」。沒有任何其他資訊或數據。因此，無法提出關於這張圖片的有效問題。 \\n\\n請提供更多圖片內容，例如圖表、數據或文字，以便我能提出相關問題。', mimetype='text/plain', start_char_idx=None, end_char_idx=None, text_template='{metadata_str}\\n\\n{content}', metadata_template='{key}: {value}', metadata_seperator='\\n'),\n",
       " Document(id_='33365cc0-8e49-44ca-ad57-8c9e39933d45', embedding=None, metadata={'dashboard_name': '投控經營分析', 'report_name': '華紙-營運績效分析月報', 'page_name': '事業部層', 'pic_name': '事業部層-全廠損益.jpg'}, excluded_embed_metadata_keys=[], excluded_llm_metadata_keys=[], relationships={}, text='Question: \\n這張圖片顯示了一份華紙營運績效分析月報，包含了各事業部的相關分析指標。表格中顯示了以下指標：\\n\\n**本月**\\n- 銷售收入\\n- 銷售成本\\n- 銷售毛利\\n- 營業利益\\n- 稅前淨利\\n\\n**全年累計**\\n- 銷售收入\\n- 銷售成本\\n- 銷售毛利\\n- 營業利益\\n- 稅前淨利\\n- 年度預算\\n- 達成率\\n\\n表格中的商品類別包含：\\n- 等等(造紙業)\\n- 久違(紙)\\n- 花蓮(紙)\\n- 台紙(紙)\\n- 智慧(紙)\\n- P板(紙)\\n- 昆山紙業(CNY)\\n- 昆林紙業(CNY)\\n- 纖維製品(CNY)\\n- 合紙(紙)\\n\\n您可以根據您的需要，查詢您感興趣的指標。\\n\\n\\nAnswer: \\n這張圖片是華紙-營運績效分析月報事業部層的報表，可以回答以下10個問題：\\n\\n1. 2024年4月的總營收是多少？\\n2. 2024年4月的毛利率是多少？\\n3. 2024年4月的營業利益是多少？\\n4. 2024年4月的稅前淨利是多少？\\n5. 2024年4月的年化淨利是多少？\\n6. 2024年4月的營收成長率是多少？\\n7. 2024年4月的毛利率成長率是多少？\\n8. 2024年4月的營業利益成長率是多少？\\n9. 2024年4月的稅前淨利成長率是多少？\\n10. 2024年4月的年化淨利成長率是多少？\\n\\nThis image is a report of Hua paper - operating performance analysis monthly report business department level. The following are 10 questions that can be answered from this image:\\n\\n1. What is the total revenue in April 2024?\\n2. What is the gross profit margin in April 2024?\\n3. What is the operating profit in April 2024?\\n4. What is the profit before tax in April 2024?\\n5. What is the annualized net profit in April 2024?\\n6. What is the revenue growth rate in April 2024?\\n7. What is the gross profit margin growth rate in April 2024?\\n8. What is the operating profit growth rate in April 2024?\\n9. What is the profit before tax growth rate in April 2024?\\n10. What is the annualized net profit growth rate in April 2024?', mimetype='text/plain', start_char_idx=None, end_char_idx=None, text_template='{metadata_str}\\n\\n{content}', metadata_template='{key}: {value}', metadata_seperator='\\n'),\n",
       " Document(id_='4b7018f2-598c-4943-ad83-23ed50426f3e', embedding=None, metadata={'dashboard_name': '投控經營分析', 'report_name': '華紙-營運績效分析日報', 'page_name': '工廠面', 'pic_name': '工廠面2.JPG'}, excluded_embed_metadata_keys=[], excluded_llm_metadata_keys=[], relationships={}, text='Question: \\n這張圖片顯示的數據包含生產、庫存和能源指標，以及環境指標。\\n\\n**生產指標**\\n\\n* **OEE** (整體設備效能)：69.59%\\n* **良率**：100.00%\\n* **報廢量**：739 (T)\\n* **紙產量**： (T)\\n\\n**庫存指標**\\n\\n* **紙漿庫存**：736.66 (T)\\n* **今日進料量**：0.00 (T)\\n* **今日耗用量**：13.00 (T)\\n* **木材庫存**：112,677 (T)\\n* **今日進料量**：0 (T)\\n* **今日耗用量**：1,326 (T)\\n* **油的庫存**： (KL)\\n* **今日進料量**：128.14 (KL)\\n* **今日耗用量**： (KL)\\n\\n**能源指標**\\n\\n* **吸耗氣量**：(T)\\n* **吸耗電量**：(T)\\n\\n**環境指標**\\n\\n* **累積空氣排放超標次數**：0 (次)\\n* **累積水排放超標次數**：0 (次)\\n* **水質檢測**\\n    * **溫度**：32.68\\n    * **PH**：7.33\\n    * **COD**：94.69\\n    * **SS**：4.12\\n* **空氣檢測**\\n    * **SO2**\\n    * **NOX**\\n    * **OP**：16\\n\\n這張報表提供了一個全面的生產、庫存、能源和環境指標的概覽。不同的人可以根據自己感興趣的指標來查詢和分析數據。\\n\\n\\nAnswer: \\n這張圖片展示了華紙工廠的營運績效數據，可以回答以下10個問題：\\n\\n1. 今日的生產效率 (OEE) 是多少？\\n2. 今日的良率是多少？\\n3. 今日的紙漿生產量是多少？\\n4. 今日的紙張生產量是多少？\\n5. 今天紙漿庫存量是多少？\\n6. 今天木材庫存量是多少？\\n7. 今天油的庫存量是多少？\\n8. 今日水質檢測的溫度、PH值、COD和SS值分別是多少？\\n9. 今日空氣檢測的SO2、NOX和OP值分別是多少？\\n10. 今日的紙漿、木材和油的使用量各是多少？\\n', mimetype='text/plain', start_char_idx=None, end_char_idx=None, text_template='{metadata_str}\\n\\n{content}', metadata_template='{key}: {value}', metadata_seperator='\\n'),\n",
       " Document(id_='7a7849cc-c2b4-4917-b93a-9b3c26711fdd', embedding=None, metadata={'dashboard_name': '投控經營分析', 'report_name': '華紙-營運績效分析日報', 'page_name': '生產面', 'pic_name': '漿線生產指標.JPG'}, excluded_embed_metadata_keys=[], excluded_llm_metadata_keys=[], relationships={}, text='Question: \\n這張圖片顯示了生產生活指標，包含以下資訊：\\n\\n* **殘餘金額**：32（金）\\n* **木片投入量**：792（BDT）\\n* **人員量**：251（T）\\n* **合格率**：0％\\n* **漂完儲存量**：110（T）\\n* **非計畫停機**：0（Min）\\n\\n這個表格提供了生產方面的相關數據，可以幫助了解生產效率、原料使用情况、產能和停機時間等信息。\\n\\n\\nAnswer: \\n這張圖片顯示了生產線的生產資訊，可以回答以下問題：\\n\\n1. 生產線的名稱是什麼？\\n2. 生產線當天的木片投入量是多少？\\n3. 生產線當天的生產總量是多少？\\n4. 生產線當天的合格率是多少？\\n5. 生產線當天的完工存量是多少？\\n6. 生產線當天的非計量停機時間是多少？\\n7. 生產線當天的生產率是多少？\\n8. 生產線當天的生產成本是多少？\\n9. 生產線當天的生產效率是多少？\\n10. 生產線的目標生產量是多少？\\n', mimetype='text/plain', start_char_idx=None, end_char_idx=None, text_template='{metadata_str}\\n\\n{content}', metadata_template='{key}: {value}', metadata_seperator='\\n'),\n",
       " Document(id_='f175e955-a0f2-4723-8948-ad4a83f1a8c7', embedding=None, metadata={'dashboard_name': '投控經營分析', 'report_name': '華紙-營運績效分析日報', 'page_name': '銷售面', 'pic_name': '銷售面4.JPG'}, excluded_embed_metadata_keys=[], excluded_llm_metadata_keys=[], relationships={}, text='Question: \\n這張圖表顯示了四個類別的數據在六個月的時間序列中的變化。\\n\\n圖表中的指標包括：\\n\\n* **時間**：2024年1月到2024年6月\\n* **久坐**：在六個月的時間內，久坐的數量從40,405下降到32,853。\\n* **合束**：在六個月的時間內，合束的數量從12,239下降到12,769，然後回升。\\n* **花箱**：在六個月的時間內，花箱的數量從8,837下降到5,429。\\n* **紙漿**：在六個月的時間內，紙漿的數量從23,506下降到5,429。\\n\\n使用者可以根據這些指標查詢圖表，了解相關數據在時間上的變化趨勢。\\n\\nAnswer: \\n這張圖片顯示了華紙在 2024 年 1 月到 6 月的庫存狀態，以圖表的形式呈現。以下是 10 個關於這張圖片的問題：\\n\\n1. 華紙的庫存總量在 2024 年的哪個月份最高？\\n2. 華紙的庫存總量在 2024 年的哪個月份最低？\\n3. 在 2024 年 1 月到 6 月期間，華紙的庫存總量呈現什麼樣的趨勢？\\n4. 2024 年 1 月到 6 月期間，哪種類型的庫存數量最多？\\n5. 2024 年 1 月到 6 月期間，哪種類型的庫存數量最少？\\n6. 2024 年 4 月的總庫存量是多少？\\n7. 2024 年 6 月的總庫存量是多少？\\n8. 從 2024 年 1 月到 6 月，華紙的 \"久坐\" 庫存數量變化如何？\\n9. 從 2024 年 1 月到 6 月，華紙的 \"合板\" 庫存數量變化如何？\\n10. 從 2024 年 1 月到 6 月，華紙的 \"花籠\" 庫存數量變化如何？\\n\\nThese questions will help you to analyze the information presented in the image and gain a deeper understanding of the company\\'s inventory status over the six-month period.\\n', mimetype='text/plain', start_char_idx=None, end_char_idx=None, text_template='{metadata_str}\\n\\n{content}', metadata_template='{key}: {value}', metadata_seperator='\\n'),\n",
       " Document(id_='b76190ca-9149-4b44-b8e9-1677f91ec620', embedding=None, metadata={'dashboard_name': '投控經營分析', 'report_name': '華紙-營運績效分析月報', 'page_name': '銷售面', 'pic_name': '銷售面-銷售量區域分布圖.jpg'}, excluded_embed_metadata_keys=[], excluded_llm_metadata_keys=[], relationships={}, text='Question: \\n這張圖片顯示了銷售區域分布圖，分成內銷與外銷。\\n\\n**內銷**部分顯示了台灣各地銷售金額的分布，由不同顏色圓圈的大小代表不同城市的銷售金額，圓圈越大，銷售金額越高。\\n\\n**外銷**部分則顯示了全球各地的銷售金額分布，由不同顏色圓圈的大小代表不同國家/地區的銷售金額，圓圈越大，銷售金額越高。\\n\\n**分析指標：**\\n\\n* **銷售金額**：以圓圈大小顯示，代表每個城市或國家/地區的銷售金額。\\n* **銷售區域**：以地圖顏色區分，代表不同城市或國家/地區的銷售區域。\\n* **內銷/外銷**：以地圖顯示，代表銷售區域是內銷或外銷。\\n\\n**這張圖表可以幫助相關人員了解：**\\n\\n* 台灣各地與全球各地的銷售狀況。\\n* 銷售金額最大的城市或國家/地區。\\n* 銷售區域的分布情況。\\n\\n**其他分析指標可能需要參考其他報告或資料，例如：**\\n\\n* 銷售額成長率\\n* 利潤率\\n* 客戶數量\\n* 競爭對手分析\\n* 市場趨勢分析\\n\\n**需要注意的是，這張圖表只顯示了銷售區域分布，並未提供其他更詳細的分析指標。**\\n\\n\\nAnswer: \\n這張圖片包含銷售區域分布圖，可以回答以下問題：\\n\\n1. 銷售區域分佈圖中，內銷和外銷分別涵蓋了哪些區域？\\n2. 內銷中，哪個城市銷售額最高？\\n3. 內銷中，哪個城市銷售額最低？\\n4. 外銷中，哪個國家銷售額最高？\\n5. 外銷中，哪個國家銷售額最低？\\n6. 內銷各城市銷售額的總和是多少？\\n7. 外銷各國家銷售額的總和是多少？\\n8. 內銷和外銷的銷售額佔總銷售額的比例分別是多少？\\n9. 哪些城市的銷售額超過了 10,000？\\n10. 哪些國家的銷售額超過了 100,000？', mimetype='text/plain', start_char_idx=None, end_char_idx=None, text_template='{metadata_str}\\n\\n{content}', metadata_template='{key}: {value}', metadata_seperator='\\n'),\n",
       " Document(id_='53151210-68fd-4333-9878-ffce19f02149', embedding=None, metadata={'dashboard_name': '投控經營分析', 'report_name': '華紙-營運績效分析月報', 'page_name': '紙機別損益', 'pic_name': '紙機別損益-完整畫面.jpg'}, excluded_embed_metadata_keys=[], excluded_llm_metadata_keys=[], relationships={}, text='Question: \\nThis table shows the monthly operational performance analysis of Hua Shi paper making machine profit and loss.  It includes the following analysis indicators:\\n\\n**Product:** PM1, PM2, PM7, Total, Combined total\\n\\n**Product Types:**  Raw materials, finished products, subtotals \\n\\n**Indicators:**  \\n\\n* Sales revenue\\n* Cost of goods sold\\n* Gross profit\\n* Unit price\\n* Inside cost of goods sold\\n* Inside gross profit\\n* Outside cost of goods sold\\n* Outside gross profit\\n* Gross profit rate\\n* Fixed cost\\n* Sales profit\\n* Sales profit rate\\n* Inventory\\n* Receivables\\n* Fixed asset depreciation\\n* Direct material cost\\n* Variable cost\\n* Total profit and loss\\n\\nYou can use this table to find specific product performance data, such as sales revenue, cost of goods sold, and profit, for each product type. You can also see how each product type has performed over time by comparing the data from different months.\\n\\nFor example, if you are interested in the profit and loss of finished products for PM1, you can find this information in the row labeled \"Finished products\" under the \"PM1\" column. You can also see the sales profit rate and total profit and loss for PM1.\\n\\nThis table is a valuable tool for anyone who wants to understand the operational performance of Hua Shi paper making machine. \\n\\n\\nAnswer: \\n這張圖片看起來像一張營運績效分析月報表，它呈現了華紙的營運狀況，可以回答以下問題：\\n\\n1. 這是哪個月的報表？\\n2. 報表中顯示了哪些紙機別？\\n3. 每個紙機別的銷售額是多少？\\n4. 每個紙機別的毛利是多少？\\n5. 每個紙機別的毛利率是多少？\\n6. 每個紙機別的營運成本是多少？\\n7. 每個紙機別的淨利是多少？\\n8. 每個紙機別的淨利率是多少？\\n9. 不同紙機別的營運表現有什麼差異？\\n10. 總體而言，華紙的營運表現如何？\\n', mimetype='text/plain', start_char_idx=None, end_char_idx=None, text_template='{metadata_str}\\n\\n{content}', metadata_template='{key}: {value}', metadata_seperator='\\n'),\n",
       " Document(id_='a7c3fea0-d101-4bbf-8049-f6d9a0cf5aed', embedding=None, metadata={'dashboard_name': '投控經營分析', 'report_name': '華紙-營運績效分析月報', 'page_name': '紙機生產狀況', 'pic_name': '紙機生產狀況-月產趨勢圖.jpg'}, excluded_embed_metadata_keys=[], excluded_llm_metadata_keys=[], relationships={}, text='Question: \\n這張圖顯示的是 **2024 年每月紙機生產量** 的數據。圖表顯示了每個月的紙機生產量，單位是 T。\\n\\n圖表的 X 軸代表月份，Y 軸代表生產量。圖表顯示了 2024 年 1 月至 5 月的紙機生產量，分別為：\\n\\n* 1 月：146.90 T\\n* 2 月：109.36 T\\n* 3 月：145.09 T\\n* 4 月：110.77 T\\n* 5 月：138.98 T\\n\\n圖表中沒有其他指標。\\n\\n\\nAnswer: \\n這張圖片顯示了2024年每月紙機生產狀況，以下是一些可能的問題：\\n\\n1. **2024年1月到5月的紙機生產量分別是多少？**\\n2. **哪個月份的紙機生產量最高？**\\n3. **哪個月份的紙機生產量最低？**\\n4. **從1月到5月，紙機生產量呈現什麼趨勢？**\\n5. **2024年1月到5月的平均紙機生產量是多少？**\\n6. **2024年2月和3月的紙機生產量相差多少？**\\n7. **2024年4月和5月的紙機生產量相差多少？**\\n8. **2024年1月到5月，紙機生產量相較於去年同期有何變化？**\\n9. **2024年紙機生產量目標是多少？**\\n10. **影響紙機生產量的因素有哪些？**\\n\\n請注意，圖表上只顯示了紙機生產量，沒有其他資訊，因此只能回答有關紙機生產量的問題。', mimetype='text/plain', start_char_idx=None, end_char_idx=None, text_template='{metadata_str}\\n\\n{content}', metadata_template='{key}: {value}', metadata_seperator='\\n'),\n",
       " Document(id_='e603891a-ec8f-44be-acc2-ee5d13a7870c', embedding=None, metadata={'dashboard_name': '投控經營分析', 'report_name': '華紙-營運績效分析月報', 'page_name': '工廠層', 'pic_name': '工廠層-字卡1.jpg'}, excluded_embed_metadata_keys=[], excluded_llm_metadata_keys=[], relationships={}, text='Question: \\n這張圖片包含了以下分析指標：\\n* 銷售值(仟元)\\n* 銷售量(T)\\n* 損益(仟元)\\n* 銷售毛利率(T)\\n* 固定成本(仟元)\\n\\n每個指標都有當月的數字、相較於上個月的變化率(MoM)以及相較於去年同期的變化率(YoY)。\\n\\nAnswer: \\n這張圖片顯示了華紙工廠層月報的營運績效分析的一些指標。以下是一些可以回答的問題：\\n\\n1. **銷售額是多少？** 2,438,796 (仟元)\\n2. **銷售量是多少？** 56,454 (T)\\n3. **毛利是多少？** -96,309 (仟元)\\n4. **銷售毛利率是多少？**  -96,309 / 2,438,796 = -0.0395 \\n5. **截至目前為止，銷售額與上月相比如何？** 上漲了 472,925 (仟元)\\n6. **截至目前為止，銷售量與上月相比如何？** 上漲了 10,518 (T)\\n7. **截至目前為止，毛利與上月相比如何？** 下降了 118,924 (仟元)\\n8. **截至目前為止，銷售額與去年同期相比如何？** 上漲了？ (沒有提供年同比數據)\\n9. **截至目前為止，銷售量與去年同期相比如何？** 上漲了？ (沒有提供年同比數據)\\n10. **截至目前為止，毛利與去年同期相比如何？** 下降了？ (沒有提供年同比數據) \\n', mimetype='text/plain', start_char_idx=None, end_char_idx=None, text_template='{metadata_str}\\n\\n{content}', metadata_template='{key}: {value}', metadata_seperator='\\n'),\n",
       " Document(id_='a3a9a661-b891-41a6-828c-2e7679cae5ac', embedding=None, metadata={'dashboard_name': '投控經營分析', 'report_name': '華紙-營運績效分析日報', 'page_name': '工廠面', 'pic_name': '工廠面1.JPG'}, excluded_embed_metadata_keys=[], excluded_llm_metadata_keys=[], relationships={}, text='Question: \\n這張圖包含以下分析指標:\\n\\n**生產指標**\\n* OEE\\n* 良品率\\n\\n**能源指標**\\n* 噸耗汽量\\n* 噸耗電量\\n\\n**庫存指標**\\n* 紙漿庫存量\\n* 今日進料量\\n* 今日耗用量\\n* 煤炭庫存量\\n* 已備在途量\\n* 今日進料量\\n* 今日耗用量\\n\\n**環保指標**\\n* 累積空氣排放超標次數\\n* 累積水排放超標次數\\n* 水體檢測: 溫度、PH、COD、SS\\n* 空氣檢測: SO2、NOx、OP\\n\\n**紙量**\\n* 紙量 \\n\\n此外，該圖還包含了以下資訊: \\n* 日報\\n* 工廠面\\n* 華紙-營運績效分析\\n\\n使用者可以根據自己的需求，查詢該圖是否包含他們感興趣的指標。\\n\\n\\nAnswer: \\n這張圖片顯示了華紙工廠的營運績效分析日報，可以回答以下問題：\\n\\n1. 今天的 OEE 值是多少？\\n2. 今天的良率是多少？\\n3. 今天的紙漿庫存量是多少？\\n4. 今天的煤炭庫存量是多少？\\n5. 今天的紙漿使用量是多少？\\n6. 今天的煤炭使用量是多少？\\n7. 今天的紙漿進料量是多少？\\n8. 今天的煤炭進料量是多少？\\n9. 今天的紙漿消耗量是多少？\\n10. 今天的煤炭消耗量是多少？', mimetype='text/plain', start_char_idx=None, end_char_idx=None, text_template='{metadata_str}\\n\\n{content}', metadata_template='{key}: {value}', metadata_seperator='\\n'),\n",
       " Document(id_='797ee95e-af93-4676-8d9a-58ffe3077932', embedding=None, metadata={'dashboard_name': '投控經營分析', 'report_name': '華紙-營運績效分析日報', 'page_name': '生產面', 'pic_name': '紙機生產指標.jpg'}, excluded_embed_metadata_keys=[], excluded_llm_metadata_keys=[], relationships={}, text='Question: \\n這張圖片顯示的是生產日報的分析指標，包含以下內容：\\n\\n* **速度**\\n* **日排程**\\n* **有效運轉率**\\n* **產出量 (T)**\\n* **產能負荷率**\\n* **良率**\\n* **紙漿系統負載 (KWH/T)**\\n* **紙漿用電量 (T/T)**\\n* **計劃停機時間 (Min)**\\n* **非計劃停機 (Min)**\\n\\n您可以根據以上指標說明，查詢這張表是否包含您有興趣的指標。\\n\\n\\nAnswer: \\n這張圖顯示了紙漿生產的相關數據，從圖中可以得到以下資訊：\\n\\n1. **什麼是 PM01？** PM01 是什麼機台或生產線的代號？\\n2. **每日生產量是多少？** 每日生產量指的是什麼？是重量還是數量？\\n3. **生產效率如何？** 生產效率的指標是什麼？\\n4. **產出噸數是多少？** 產出噸數指的是什麼產品的產量？\\n5. **生產速度是多少？** 生產速度的單位是什麼？\\n6. **哪些因素影響生產效率？** 例如停機時間、故障率等等。\\n7. **哪些因素影響產出噸數？** 例如原料品質、設備狀態等等。\\n8. **如何提高生產效率？** 可以從哪些方面改善生產效率？\\n9. **如何提高產出噸數？** 可以從哪些方面提高產出噸數？\\n10. **如何降低生產成本？** 可以從哪些方面降低生產成本？\\n', mimetype='text/plain', start_char_idx=None, end_char_idx=None, text_template='{metadata_str}\\n\\n{content}', metadata_template='{key}: {value}', metadata_seperator='\\n'),\n",
       " Document(id_='9b2120ec-20ec-48aa-8252-38c006b9543b', embedding=None, metadata={'dashboard_name': '投控經營分析', 'report_name': '華紙-營運績效分析日報', 'page_name': '銷售面', 'pic_name': '銷售面1.JPG'}, excluded_embed_metadata_keys=[], excluded_llm_metadata_keys=[], relationships={}, text='Question: \\n這張圖片包含報表投控經營分析華紙 - 營運績效分析日報銷售面的相關分析指標。\\n\\n**第一張圖表是「產品銷售達成率」分析**\\n\\n* 分類：\\n    * 枱位新\\n    * CCK\\n    * 全攻略\\n    * 複製紙\\n\\n* 指標：\\n    * 實際數\\n    * 月目標銷售量\\n    * 達成率\\n    * 銷售額\\n    * 月目標銷售額差異率\\n\\n**第二張圖表是「產品下單狀況」分析**\\n\\n* 分類：\\n    * 枱位新\\n    * CCK\\n    * 全攻略\\n    * 複製紙\\n\\n* 指標：\\n    * 達成量\\n    * 月目標銷售量\\n    * 達成率\\n    * 銷售量\\n    * 月目標銷售額差異率\\n\\n這張圖表可以幫助相關人員查詢知道是否包含他們有興趣的指標。\\n\\n\\nAnswer: \\n這張圖片顯示了華紙營運績效分析日報銷售面的相關分析指標。以下是可以從這張圖片中得到解答的10個問題：\\n\\n1. 華紙的產品銷售達成率是多少？\\n2. 各分析類別的產品銷售達成率分別是多少？\\n3. 產品銷售達成率最高的分析類別是哪一個？\\n4. 產品銷售達成率最低的分析類別是哪一個？\\n5. 華紙的產品訂單狀況如何？\\n6. 各分析類別的產品訂單數量分別是多少？\\n7. 產品訂單數量最多的分析類別是哪一個？\\n8. 產品訂單數量最少的分析類別是哪一個？\\n9. 華紙的產品銷售狀況與訂單狀況之間有什麼關係？\\n10. 這些數據可以提供哪些關於華紙營運績效的見解？\\n', mimetype='text/plain', start_char_idx=None, end_char_idx=None, text_template='{metadata_str}\\n\\n{content}', metadata_template='{key}: {value}', metadata_seperator='\\n'),\n",
       " Document(id_='ab4e3324-88c3-4b6f-a34e-2618a993cf5d', embedding=None, metadata={'dashboard_name': '投控經營分析', 'report_name': '華紙-營運績效分析日報', 'page_name': '生產面', 'pic_name': '汽電生產指標.JPG'}, excluded_embed_metadata_keys=[], excluded_llm_metadata_keys=[], relationships={}, text='Question: \\n這張圖片是一個簡單的報表，用來顯示紙廠生產相關的資訊。以下列出包含的分析指標：\\n\\n* **發電量 (KWH)**：表示發電量\\n* **蒸汽量 (T)**：表示蒸汽產量\\n* **內送電 (KWH)**：表示內送電量\\n* **用燃料 (T)**：表示用燃料量\\n* **清水用量 (T)**：表示清水使用量\\n* **外購電量 (KWH)**：表示外購電量\\n* **製漿度**：表示製漿的程度\\n* **半製漿度**：表示半製漿的程度\\n* **磨漿 2.08 度**：表示磨漿的程度\\n* **269,431 度**：表示磨漿的程度\\n* **週六半製漿度**：表示週六半製漿的程度\\n* **契約用電 (KWH)**：表示契約用電量\\n\\n這張表主要用來顯示紙廠生產相關的資訊，例如發電量、蒸汽量、用燃料量等等。使用者可以根據自己的需求查詢表中包含的指標。\\n\\n\\nAnswer: \\n這張圖片顯示了生產指標，例如用電量、蒸汽量、用水量等，可以回答以下10個問題：\\n\\n1. 今天的總用電量是多少？\\n2. 今天的蒸汽量是多少？\\n3. 今天的內送電量是多少？\\n4. 今天的燃料用量是多少？\\n5. 今天的清水用量是多少？\\n6. 今天的設備損壞度是多少？\\n7. 今天的半失修度是多少？\\n8. 今天的設備故障度是多少？\\n9. 今天的設備週六半失修度是多少？\\n10. 圖表中的數據是哪個時間點的數據？\\n\\nThese are just a few examples, and the specific questions you can ask will depend on your specific needs and the context of the report.', mimetype='text/plain', start_char_idx=None, end_char_idx=None, text_template='{metadata_str}\\n\\n{content}', metadata_template='{key}: {value}', metadata_seperator='\\n'),\n",
       " Document(id_='8f2d9ed9-6d3a-45f1-9123-deb6ac656743', embedding=None, metadata={'dashboard_name': '投控經營分析', 'report_name': '華紙-營運績效分析日報', 'page_name': '銷售面', 'pic_name': '銷售面3.JPG'}, excluded_embed_metadata_keys=[], excluded_llm_metadata_keys=[], relationships={}, text='Question: \\n這張圖片顯示的是華紙的營運績效分析日報銷售面，包含了幾個重要的分析指標，可以讓相關的人員查詢是否包含他們感興趣的指標：\\n\\n* **銷售單價:** 這是指每單位產品的銷售價格。\\n* **估計新:** 這是指華紙預估的銷售單價。\\n* **CCK:** 這是指華紙的成本價格。\\n* **全次紙板:** 這是指華紙的紙板銷售價格。\\n* **模造紙:** 這是指華紙的模造紙銷售價格。\\n\\n這些指標可以幫助我們了解華紙的銷售狀況和成本控制情況，以及未來發展趨勢。\\n\\n\\nAnswer: \\n這張圖表呈現了某家公司在2024年1月到6月間，四個不同營運指標的變化趨勢。因此，可以問的問題包含：\\n\\n1. **哪個營運指標在2024年上半年表現最佳？**\\n2. **哪個營運指標在2024年上半年表現最差？**\\n3. **哪個月份的營運指標整體表現最好？**\\n4. **哪個月份的營運指標整體表現最差？**\\n5. **哪個營運指標的波動幅度最大？**\\n6. **哪個營運指標的波動幅度最小？**\\n7. **從圖表中可以看出，這家公司的營運趨勢是什麼？**\\n8. **哪個營運指標與其他指標的變動趨勢最相關？**\\n9. **這些營運指標的變化趨勢對公司的整體營運績效有何影響？**\\n10. **除了圖表顯示的資料，還有哪些因素可能影響公司的營運績效？**\\n', mimetype='text/plain', start_char_idx=None, end_char_idx=None, text_template='{metadata_str}\\n\\n{content}', metadata_template='{key}: {value}', metadata_seperator='\\n'),\n",
       " Document(id_='6db57bc9-971c-42f2-8c35-a5f7bb5dae01', embedding=None, metadata={'dashboard_name': '投控經營分析', 'report_name': '華紙-營運績效分析月報', 'page_name': '工廠層', 'pic_name': '工廠層-銷量及損益歷史趨勢.jpg'}, excluded_embed_metadata_keys=[], excluded_llm_metadata_keys=[], relationships={}, text='Question: \\nThis chart shows the **production volume and profit history trends**.\\n\\nThe blue bars represent **production volume (in tons)**, and the orange line represents **profit (in thousands of yuan)**.  \\n\\nThe chart spans from October 2023 to May 2024. \\n\\nYou can find the production volume and profit for each month.\\n\\n\\nAnswer: \\n這張圖片展示了華紙工廠層營運績效分析月報的數據，可以回答以下 10 個問題：\\n\\n1. 圖表顯示了哪些數據？\\n2. 圖表的時間跨度是多久？\\n3. 2023 年 10 月的產量是多少？\\n4. 2024 年 1 月的利潤是多少？\\n5. 哪個月份的利潤最高？\\n6. 哪個月份的利潤最低？\\n7. 哪個月份的產量最高？\\n8. 哪個月份的產量最低？\\n9. 產量和利潤之間是否存在明顯的相關性？\\n10. 圖表是否顯示了華紙工廠層的營運績效趨勢？\\n', mimetype='text/plain', start_char_idx=None, end_char_idx=None, text_template='{metadata_str}\\n\\n{content}', metadata_template='{key}: {value}', metadata_seperator='\\n'),\n",
       " Document(id_='02e8c303-21bb-42b2-bf96-6303f7ee2242', embedding=None, metadata={'dashboard_name': '投控經營分析', 'report_name': '華紙-營運績效分析月報', 'page_name': '漿線生產狀況', 'pic_name': '漿線生產狀況-月產趨勢圖.jpg'}, excluded_embed_metadata_keys=[], excluded_llm_metadata_keys=[], relationships={}, text='Question: \\n這張圖片展示的是一個 **月產量** 分析圖表，它顯示了 **2024 年** 每個月漿線生產的噸數。\\n\\n* **縱軸** 代表 **月產量**，單位是 **噸 (T)**。\\n* **橫軸** 代表 **月份**。\\n\\n圖表顯示了 2024 年 1 月至 6 月每個月的漿線產量數據，並提供以下資訊：\\n\\n* **1 月** 產量為 **271.56 噸**。\\n* **2 月** 產量為 **273.18 噸**。\\n* **3 月** 產量為 **285.30 噸**。\\n* **4 月** 產量為 **300.55 噸**。\\n* **5 月** 產量為 **310.52 噸**。\\n* **6 月** 產量為 **0.00 噸**。\\n\\n這張圖表可以幫助您了解 2024 年漿線生產的趨勢，並觀察不同月份之間的產量差異。\\n\\n\\nAnswer: \\n好的，我可以幫你提出十個問題。這個圖表顯示了華紙在 2024 年 1 月到 6 月的漿線生產狀況。\\n\\n1. **華紙的漿線生產量在 2024 年 1 月到 6 月間的趨勢如何？**\\n2. **華紙在 2024 年哪個月的漿線生產量最高？**\\n3. **華紙在 2024 年哪個月的漿線生產量最低？**\\n4. **華紙在 2024 年 5 月的漿線生產量是多少？**\\n5. **華紙在 2024 年 6 月的漿線生產量是多少？**\\n6. **華紙在 2024 年 1 月到 3 月的平均漿線生產量是多少？**\\n7. **華紙在 2024 年 4 月到 6 月的平均漿線生產量是多少？**\\n8. **華紙在 2024 年 2 月和 3 月的漿線生產量相差多少？**\\n9. **華紙在 2024 年 5 月的漿線生產量比 4 月增加了多少？**\\n10. **華紙的漿線生產量在 2024 年 6 月為何會大幅下降？**\\n\\n希望這些問題對你有幫助！\\n', mimetype='text/plain', start_char_idx=None, end_char_idx=None, text_template='{metadata_str}\\n\\n{content}', metadata_template='{key}: {value}', metadata_seperator='\\n'),\n",
       " Document(id_='b66ca4bf-e350-435f-bd7e-65940fb23083', embedding=None, metadata={'dashboard_name': '投控經營分析', 'report_name': '華紙-營運績效分析月報', 'page_name': '紙機生產狀況', 'pic_name': '紙機生產狀況-生產變動成本.jpg'}, excluded_embed_metadata_keys=[], excluded_llm_metadata_keys=[], relationships={}, text='Question: \\n這張圖表顯示了生產製造成本的組成，可以帮助你了解不同項目在生產成本中所占的比例。\\n\\n**主要分析指標：**\\n\\n* **生產製造成本的總金額：** 顯示了總的生產製造成本。\\n* **各項成本的金額：** 顯示了不同項目在生產成本中的具體金額。\\n* **各項成本的百分比：** 顯示了不同項目在生產成本中所占的比例。 \\n* **累積百分比：** 顯示了累積的成本比例，可以帮助你快速了解不同項目的成本佔比。\\n\\n**可以查詢的指標：**\\n\\n* **各項成本的金額和百分比：** 您可以查看不同項目的成本金額和百分比，例如：\\n    * **原料：** 顯示了原材料的成本。\\n    * **電力：** 顯示了電力的成本。\\n    * **製造成本：** 顯示了生產過程中的成本。\\n    * **人工：** 顯示了人工成本。\\n    * **其他：** 顯示了其他成本。\\n* **累積百分比：** 您可以查看累積百分比，例如：\\n    * **原料的累積百分比：** 顯示了原材料成本佔總成本的比例。\\n    * **原料和電力的累積百分比：** 顯示了原材料和電力成本佔總成本的比例。\\n    * **所有成本的累積百分比：** 顯示了所有成本佔總成本的比例，應該為 100%。\\n\\n**用途：**\\n\\n這張圖表可以帮助您：\\n\\n* 了解生產製造成本的組成。\\n* 分析不同項目的成本佔比。\\n* 找出成本的主要來源。\\n* 評估成本控制的成效。\\n\\n**注意事項：**\\n\\n* 圖表中顯示的數據是特定時間點的數據，可能不代表長期趨勢。\\n* 圖表中沒有提供成本變化的趨勢信息。\\n* 圖表中沒有提供成本控制措施的信息。\\n\\n\\nAnswer: \\n以下是這張圖片可以回答的 10 個問題：\\n\\n1. 圖表展示了什麼？\\n2. 生產成本中最大部分是什麼？\\n3. 最小的成本部分是什麼？\\n4. 電力成本占總成本的百分比是多少？\\n5. 製程成本占總成本的百分比是多少？\\n6.  加工成本占總成本的百分比是多少？\\n7.  總生產成本是多少？\\n8.  每個成本部分的具體金額是多少？\\n9.  圖表中使用的單位是什麼？\\n10.  這些數據是代表什麼時間範圍的？', mimetype='text/plain', start_char_idx=None, end_char_idx=None, text_template='{metadata_str}\\n\\n{content}', metadata_template='{key}: {value}', metadata_seperator='\\n'),\n",
       " Document(id_='60e3dd77-e975-4e37-b008-00f1240c0060', embedding=None, metadata={'dashboard_name': '投控經營分析', 'report_name': '華紙-營運績效分析月報', 'page_name': '工廠層', 'pic_name': '工廠層-完整畫面.jpg'}, excluded_embed_metadata_keys=[], excluded_llm_metadata_keys=[], relationships={}, text='Question: \\n這張圖片包含報表 投控經營分析華紙-營運績效分析月報工廠層的一些相關分析指標集訊息，包含以下指標：\\n\\n**財務指標:**\\n* 銷售額（仟元）\\n* 銷售量（噸）\\n* 損益（仟元）\\n* 銷售毛額（噸）\\n* 固定成本（仟元）\\n\\n**人力資源指標:**\\n* 全廠人數\\n* 工傷\\n* 罰款\\n\\n**生產指標:**\\n* 產量（噸）\\n* 銷售單價（仟元）\\n* 產量成本（仟元）\\n* 銷售利潤（仟元）\\n* 獲利率（%）\\n\\n**其他指標:**\\n* MoM (月增率)\\n* YoY (年增率)\\n\\n使用者可以根據自身需求查詢以上指標，例如，如果使用者想知道銷售額的月增率，則可以查看銷售額（仟元）欄位的 MoM 值。\\n\\n\\nAnswer: \\n以下是這張圖可以回答的 10 個問題：\\n\\n1. **2024 年 5 月的銷售額是多少？**\\n2. **2024 年 5 月的利潤是多少？**\\n3. **從 2023 年 10 月到 2024 年 5 月，銷售額的變化如何？**\\n4. **從 2023 年 10 月到 2024 年 5 月，利潤的變化如何？**\\n5. **2024 年 5 月的總產量是多少？**\\n6. **2024 年 5 月的總成本是多少？**\\n7. **2024 年 5 月的淨利潤率是多少？**\\n8. **該工廠的總員工人數是多少？**\\n9. **該工廠的工傷次數是多少？**\\n10. **該工廠的固定資產價值是多少？**', mimetype='text/plain', start_char_idx=None, end_char_idx=None, text_template='{metadata_str}\\n\\n{content}', metadata_template='{key}: {value}', metadata_seperator='\\n'),\n",
       " Document(id_='ae39904c-0971-411c-9320-f03f9bc40fdc', embedding=None, metadata={'dashboard_name': '投控經營分析', 'report_name': '華紙-營運績效分析月報', 'page_name': '工廠層', 'pic_name': '工廠層-查詢條件.jpg'}, excluded_embed_metadata_keys=[], excluded_llm_metadata_keys=[], relationships={}, text='Question: \\n很抱歉，我無法看到圖片。我是一個文字模型，無法處理任何圖像資訊。\\n\\nAnswer: \\n這張圖片顯示的是一個報表的介面，可以根據這些資訊提出以下問題：\\n\\n1. 這個報表的標題是什麼？\\n2. 這個報表是關於哪個工廠的？\\n3. 這個報表是關於哪個月的？\\n4. 這個報表包含哪些分析指標？\\n5. 這個報表是根據什麼數據生成的？\\n6. 這個報表顯示了哪些關鍵信息？\\n7. 這個報表的目的是什麼？\\n8. 這個報表是誰制作的？\\n9. 這個報表是誰使用的？\\n10. 這個報表還有其他版本的嗎？', mimetype='text/plain', start_char_idx=None, end_char_idx=None, text_template='{metadata_str}\\n\\n{content}', metadata_template='{key}: {value}', metadata_seperator='\\n'),\n",
       " Document(id_='2fdf9eb5-784b-4028-8336-be15b147db0e', embedding=None, metadata={'dashboard_name': '投控經營分析', 'report_name': '華紙-營運績效分析日報', 'page_name': '銷售面', 'pic_name': '銷售面2.JPG'}, excluded_embed_metadata_keys=[], excluded_llm_metadata_keys=[], relationships={}, text='Question: \\n這張圖表包含報表 **投控經營分析華紙-營運績效分析日報銷售面** 的相關分析指標，包含:\\n\\n* **銷售量**\\n* **估計新**\\n* **CCK**\\n* **全成本採收**\\n* **模組銷售**\\n\\n每個指標在圖表中以不同顏色線條呈現，並附上每個月份的數值。你可以根據這些數據，了解華紙每個月的銷售表現，以及不同指標的變化趨勢。 \\n\\n希望以上資訊能幫助你查詢是否包含了你感興趣的指標。\\n\\n\\nAnswer: \\n這張圖片顯示的是華紙營運績效分析日報銷售面的相關分析指標。以下是一些可以從圖中獲得解答的問題：\\n\\n1. **2024年1月到2024年6月的銷售額趨勢如何？**\\n2. **2024年1月到2024年6月，哪個月的銷售額最高？**\\n3. **2024年1月到2024年6月，哪個月的銷售額最低？**\\n4. **2024年1月到2024年6月，銷售額的變化幅度如何？**\\n5. **2024年1月到2024年6月，各項指標的變化趨勢如何？**\\n6. **哪個指標的變化幅度最大？**\\n7. **哪個指標的變化幅度最小？**\\n8. **各項指標之間的關係如何？**\\n9. **造成銷售額變化的原因有哪些？**\\n10. **未來銷售額的預測如何？**', mimetype='text/plain', start_char_idx=None, end_char_idx=None, text_template='{metadata_str}\\n\\n{content}', metadata_template='{key}: {value}', metadata_seperator='\\n'),\n",
       " Document(id_='44b63dc1-20fe-47d5-aef5-981d7e309359', embedding=None, metadata={'dashboard_name': '投控經營分析', 'report_name': '華紙-營運績效分析日報', 'page_name': '銷售面', 'pic_name': '銷售面6.JPG'}, excluded_embed_metadata_keys=[], excluded_llm_metadata_keys=[], relationships={}, text='Question: \\n這張圖表包含了以下分析指標：\\n\\n* **報表**: 投控經營分析華紙-營運績效分析日報銷售面\\n* **事件數量**: 根據不同部門顯示事件數量，包括：\\n    * **久豐廠**: 69\\n    * **台東廠**: 73\\n    * **新信廠**: 19\\n    * **總公司**: 5\\n    * **花蓮廠**: 40\\n* **事件原因**: 根據不同事件原因顯示數量，包括：\\n    * **BAGGY**: 25\\n    * **PICKING**: 31\\n    * **縫運不良**: 10\\n    * **其他原因**: 2\\n    * **加工強度**: 13\\n    * **包裝不良**: 9\\n    * **水洗**: 2\\n    * **裁縫不良**: 1\\n    * **顏色不良**: 5\\n    * **紙面不良**: 1\\n    * **結構物料性**: 18\\n    * **著運不良**: 7\\n    * **裁切不良**: 5\\n    * **規格不良**: 3\\n\\n\\n你可以根據這些指標查詢，看是否包含你感興趣的指標。\\n\\nAnswer: \\n這張圖片顯示了華紙營運績效分析日報銷售面的相關分析指標。以下是一些可以從圖片中回答的問題：\\n\\n1. 什麼是華紙的營運績效分析日報銷售面的主要分析指標？\\n2. 哪些是造成華紙營運績效分析日報銷售面出現問題的主要原因？\\n3. 不同原因所佔的比例如何？\\n4. 不同原因對不同銷售區域的影響如何？\\n5. 哪些原因在不同銷售區域的比例更高？\\n6. 華紙的營運績效分析日報銷售面哪個區域表現最好？\\n7. 華紙的營運績效分析日報銷售面哪個區域表現最差？\\n8. 華紙的營運績效分析日報銷售面哪個原因在每個區域都佔有較高的比例？\\n9. 為什麼華紙的營運績效分析日報銷售面會出現這些問題？\\n10. 華紙的營運績效分析日報銷售面如何才能改善？\\n', mimetype='text/plain', start_char_idx=None, end_char_idx=None, text_template='{metadata_str}\\n\\n{content}', metadata_template='{key}: {value}', metadata_seperator='\\n'),\n",
       " Document(id_='a6425280-cbbb-47ce-b1a4-31700d0e3c63', embedding=None, metadata={'dashboard_name': '投控經營分析', 'report_name': '華紙-營運績效分析月報', 'page_name': '事業部層', 'pic_name': '事業部層-營收及損益歷史趨勢.jpg'}, excluded_embed_metadata_keys=[], excluded_llm_metadata_keys=[], relationships={}, text='Question: \\n這張圖表顯示的是華紙營運績效分析月報事業部層的營收和損益歷史趨勢，包含以下資訊：\\n\\n* **時間範圍:**  2023年11月至2024年5月\\n* **單位:**  仟元\\n* **指標:** \\n    * **營收:** 藍色柱狀圖，代表每個月的營收金額\\n    * **損益:** 橘色線狀圖，代表每個月的損益金額\\n\\n使用者可以根據時間軸查看每個月的營收和損益狀況，了解公司營運狀況的趨勢。\\n\\n\\nAnswer: \\n這張圖片顯示了華紙事業部層的營運績效分析月報，可以用來回答以下10個問題：\\n\\n1. **哪個月份的營收最高？**\\n2. **哪個月份的獲利最高？**\\n3. **哪個月份的獲利最低？**\\n4. **營收和獲利之間的關係如何？**\\n5. **華紙事業部的營收呈現什麼樣的趨勢？**\\n6. **華紙事業部的獲利呈現什麼樣的趨勢？**\\n7. **華紙事業部在哪些月份出現了營收下降的情況？**\\n8. **華紙事業部在哪些月份出現了獲利下降的情況？**\\n9. **華紙事業部在哪些月份出現了獲利轉虧的情況？**\\n10. **根據這些數據，華紙事業部的營運狀況如何？**\\n', mimetype='text/plain', start_char_idx=None, end_char_idx=None, text_template='{metadata_str}\\n\\n{content}', metadata_template='{key}: {value}', metadata_seperator='\\n'),\n",
       " Document(id_='33758518-0ecf-4cfb-a82e-c2a4300fdb26', embedding=None, metadata={'dashboard_name': '投控經營分析', 'report_name': '華紙-營運績效分析月報', 'page_name': '漿線生產狀況', 'pic_name': '漿線生產狀況-生產變動成本.jpg'}, excluded_embed_metadata_keys=[], excluded_llm_metadata_keys=[], relationships={}, text='Question: \\n這張圖片包含一張製漿生產成本的帕雷托圖，顯示不同成本項目對總成本的貢獻比例。圖表中包含以下分析指標：\\n\\n* **成本項目：** 顯示不同成本項目的名稱，例如：製漿、製紙、加工、包裝等。\\n* **成本金額：** 顯示每個成本項目在生產成本中的金額，以台幣計。\\n* **成本百分比：** 顯示每個成本項目佔總成本的百分比。\\n* **累積成本百分比：** 顯示前幾個成本項目佔總成本的累積百分比。\\n* **帕雷托線：** 顯示累積成本百分比的趨勢，可以幫助使用者快速識別主要成本項目。\\n\\n此圖表可以幫助使用者了解生產成本的組成，並識別主要成本項目，以便於制定成本控制策略。\\n\\n\\nAnswer: \\n這張圖片可以回答以下10個問題：\\n\\n1. 生產製造成本的總額是多少？\\n2. 原料成本佔總成本的比例是多少？\\n3. 加工成本佔總成本的比例是多少？\\n4. 包材成本佔總成本的比例是多少？\\n5. 電力成本佔總成本的比例是多少？\\n6. 原料成本是多少？\\n7. 加工成本是多少？\\n8. 包材成本是多少？\\n9. 電力成本是多少？\\n10. 除了成本項目，這張圖表還提供了哪些訊息？', mimetype='text/plain', start_char_idx=None, end_char_idx=None, text_template='{metadata_str}\\n\\n{content}', metadata_template='{key}: {value}', metadata_seperator='\\n'),\n",
       " Document(id_='069d8724-5bda-4012-bd9a-7731b7ea0ab5', embedding=None, metadata={'dashboard_name': '投控經營分析', 'report_name': '華紙-營運績效分析月報', 'page_name': '漿線生產狀況', 'pic_name': '漿線生產狀況-完整畫面.jpg'}, excluded_embed_metadata_keys=[], excluded_llm_metadata_keys=[], relationships={}, text='Question: \\n這張圖片包含報表“投控經營分析華紙-營運績效分析月報漿線生產狀況”的一些相關分析指標集訊息， 以下是其包含的指標：\\n\\n**PU1 漿線生產狀況**\\n\\n* 平均日產量(噸)\\n* 稼動率\\n* 停機數\\n* OEE\\n* 達標率\\n* 停機時間(Min)\\n\\n**月產銷趨勢圖(T)**\\n\\n* 月份（Jan, Feb, Mar, Apr, May, Jun）\\n* 月產銷量\\n\\n**生產製造成本**\\n\\n* 項目（原料、製程、人工、包裝、電力）\\n* 成本\\n\\n**生產固定成本**\\n\\n* 項目（用人、折舊、維修、資源、設備折舊、其他）\\n* 成本\\n\\n**停機時間(Min)**\\n\\n* 停機時間總數\\n\\n這些指標可以幫助使用者了解 PU1 漿線的生產狀況，包括產量、稼動率、停機時間等。使用者可以根據自己的需求查詢相關指標，例如：\\n* 想了解 PU1 漿線的產量變化，可以查看 “平均日產量(噸)”和“月產銷趨勢圖(T)”。\\n* 想了解 PU1 漿線的效率，可以查看 “稼動率”、“停機數”、“OEE”、“達標率”。\\n* 想了解 PU1 漿線的停機原因，可以查看 “停機時間(Min)”。\\n* 想了解 PU1 漿線的成本狀況，可以查看 “生產製造成本”和“生產固定成本”。\\n\\n希望以上信息可以幫助使用者查詢到他們需要的指標。\\n\\n\\nAnswer: \\n這張圖片顯示的是關於華紙-營運績效分析月報漿線生產狀況的報表。以下是 10 個這個圖片可以回答的問題：\\n\\n1.  **PU1 漿線的生產狀況如何？**\\n2.  **PU1 漿線的平均日產量是多少？**\\n3.  **PU1 漿線的良率是多少？**\\n4.  **PU1 漿線的設備效率（OEE）是多少？**\\n5.  **PU1 漿線的產能利用率是多少？**\\n6.  **PU1 漿線的停機時間是多少？**\\n7.  **PU1 漿線的生產成本是多少？**\\n8.  **PU1 漿線的固定成本是多少？**\\n9.  **PU1 漿線的生產成本在過去幾個月是如何變化的？**\\n10. **PU1 漿線的固定成本在過去幾個月是如何變化的？**', mimetype='text/plain', start_char_idx=None, end_char_idx=None, text_template='{metadata_str}\\n\\n{content}', metadata_template='{key}: {value}', metadata_seperator='\\n'),\n",
       " Document(id_='e316216e-67fc-49d8-846d-9972918ebec7', embedding=None, metadata={'dashboard_name': '投控經營分析', 'report_name': '華紙-營運績效分析日報', 'page_name': '銷售面', 'pic_name': '銷售面5.JPG'}, excluded_embed_metadata_keys=[], excluded_llm_metadata_keys=[], relationships={}, text='Question: \\n這張圖片包含報表「投控經營分析華紙-營運績效分析日報銷售面」的一些相關分析指標集訊息。\\n\\n**分析指標包含：**\\n\\n* **目標**：各銷售點設定的銷售目標。\\n* **實際數**：各銷售點實際達成的銷售數量。\\n* **達成率**：各銷售點實際銷售數量與目標的比例。\\n* **日目標銷售量**：各銷售點設定的每日銷售目標。\\n* **管銷銷售**：各銷售點實際達成的銷售數量。\\n* **達成方案**：各銷售點的達成方案。\\n\\n**說明：**\\n\\n* 表格分為「大紙」、「特紙」兩類，代表不同的銷售產品類別。\\n* 每個產品類別又分為「久等」、「台北」、「花蓮」、「新店」、「總公司」等各銷售點。\\n* 每個銷售點列出目標、實際數、達成率等指標。\\n* 圖表則顯示每個銷售點的日目標銷售量、管銷銷售和達成方案，以及每個產品類別的達成率走勢。\\n\\n**查詢方式：**\\n\\n* 想要查詢特定產品類別的銷售績效，可以先找到該類別的表格。\\n* 想要查詢特定銷售點的銷售績效，可以先找到該銷售點的欄位。\\n* 想要查詢特定指標的數值，可以先找到該指標的標題。\\n\\n希望以上說明可以幫助相關人士查詢這張表是否包含他們有興趣的指標。\\n\\n\\nAnswer: \\n這張圖片展示了「華紙-營運績效分析日報銷售面」的相關分析指標，以下是 10 個可以從這張圖片回答的問題：\\n\\n1. **哪些地區的銷售達成率最高？**\\n2. **哪個地區的目標銷售額最高？**\\n3. **哪個地區的實際銷售額最高？**\\n4. **哪個地區的銷售達成率最低？**\\n5. **哪個地區的目標銷售額最低？**\\n6. **哪個地區的實際銷售額最低？**\\n7. **哪個地區的銷售額目標和實際銷售額差距最大？**\\n8. **哪些地區的銷售達成率超過 50%？**\\n9. **哪些地區的銷售達成率低於 50%？**\\n10. **哪個地區的銷售達成率變化最大？**\\n\\n這些問題可以幫助你更深入地了解華紙在不同地區的銷售表現，以及各地區的銷售目標和實際達成情況。\\n', mimetype='text/plain', start_char_idx=None, end_char_idx=None, text_template='{metadata_str}\\n\\n{content}', metadata_template='{key}: {value}', metadata_seperator='\\n'),\n",
       " Document(id_='40a2c897-0173-4693-9cd1-1a3e943797d4', embedding=None, metadata={'dashboard_name': '投控經營分析', 'report_name': '華紙-營運績效分析月報', 'page_name': '事業部層', 'pic_name': '事業部層-字卡2.jpg'}, excluded_embed_metadata_keys=[], excluded_llm_metadata_keys=[], relationships={}, text='Question: \\n這張圖片包含了三個分析指標：\\n\\n1. **CCC天數 (天)**：顯示現金轉換周期，表示從原材料採購到收取貨款的時間，單位是天。\\n2. **銀行借款金額**：顯示目前所借的銀行借款總金額，單位是億元。\\n3. **動態率**：顯示特定時期的銷售變化幅度，單位是百分比。\\n\\n根據您的需求，您可以根據這些指標判斷是否包含您感興趣的指標。\\n\\n\\nAnswer: \\n這張圖片顯示了一個報表的部分，其中包含三項指標，可以用來分析華紙的營運績效。以下是針對這張圖片可以提出的一些問題：\\n\\n1. **CCC 天數代表什麼意思？**\\n2. **CCC 天數的 133.74 是指什麼單位？**\\n3. **MoM -1.5 代表什麼意思？**\\n4. **YoY 代表什麼意思？**\\n5. **銀行借款金額是多少？**\\n6. **銀行借款金額的單位是什麼？**\\n7. **營運率是多少？**\\n8. **營運率的單位是什麼？**\\n9. **這張圖片是哪個月的月報？**\\n10. **這個月報的目標受眾是誰？** \\n\\n希望這些問題能幫助你理解這張圖片所呈現的資訊。', mimetype='text/plain', start_char_idx=None, end_char_idx=None, text_template='{metadata_str}\\n\\n{content}', metadata_template='{key}: {value}', metadata_seperator='\\n'),\n",
       " Document(id_='98006c58-116a-4098-882f-32455b18743f', embedding=None, metadata={'dashboard_name': '投控經營分析', 'report_name': '華紙-營運績效分析月報', 'page_name': '事業部層', 'pic_name': '事業部層-完整畫面.jpg'}, excluded_embed_metadata_keys=[], excluded_llm_metadata_keys=[], relationships={}, text=\"Question: \\n這張圖片包含報表「投控經營分析華紙-營運績效分析月報事業部層」的一些相關分析指標集訊息，以下列出包含的指標：\\n\\n**財務指標:**\\n\\n* 營收(TWD)\\n* 銷貨成本(TWD)\\n* 營業毛利(TWD)\\n* 營業費用(TWD)\\n* 營業利益(TWD)\\n* 稅前淨利(TWD)\\n* 淨利(TWD)\\n* 費用率\\n* 毛利率\\n* 稅率\\n* 損益率\\n* 營收成長率\\n* 銷貨成本成長率\\n* 營業毛利成長率\\n* 營業費用成長率\\n* 營業利益成長率\\n* 稅前淨利成長率\\n* 淨利成長率\\n* 現金流量(TWD)\\n* 現金流量成長率\\n\\n**其他指標:**\\n\\n* CCC(天數)\\n* 銀行借款餘額(百萬元)\\n* 營運效率\\n* 流動比率\\n* 負債比率\\n* 淨值比率\\n* 每股盈餘\\n* 每股淨值\\n* 股利發放率\\n* ROE\\n* ROA\\n* 總資產報酬率\\n* 負債報酬率\\n* 銷售毛利率\\n* 銷售費用率\\n* 營業費用率\\n* 行政費用率\\n* 財務費用率\\n* 稅前利益率\\n* 淨利率\\n* 資產週轉率\\n* 存貨週轉率\\n* 應收帳款週轉率\\n* 應付帳款週轉率\\n\\n**目標指標:**\\n\\n* 流動比率\\n* 負債比率\\n* 負債權益比率\\n* 稅後利率\\n* 淨利率\\n* 應收帳款週轉天數\\n* 存貨週轉天數\\n\\n**2024/04 實際值:**\\n\\n* 110%\\n* 107%\\n* 3.80\\n* 181 億元\\n* 56%\\n* 65 天\\n* 34 天\\n* 103 天\\n\\n**註:** 實際值僅為部分指標，圖片可能包含更多未列出的指標，請根據您的需求自行查找。\\n\\n若您有興趣的指標未列出，請您提供更詳細的資訊，例如：指標名稱、單位、計算方式等，我可以嘗試幫您找出它是否包含在圖片中。\\n\\n\\nAnswer: \\n這張圖片是一個營運績效分析月報，可以用來分析華紙的財務狀況。以下列出10個問題，可以用這張圖片來回答：\\n\\n1.  華紙在2024年4月的營收是多少？\\n2.  華紙在2024年4月的淨利潤是多少？\\n3.  華紙在2024年4月的毛利率是多少？\\n4.  華紙在2024年4月的銷貨成本是多少？\\n5.  華紙在2024年4月的營業費用是多少？\\n6.  華紙在2024年4月的營收成長率是多少？\\n7.  華紙在2024年4月的淨利潤成長率是多少？\\n8.  華紙在2024年4月的流動比率是多少？\\n9.  華紙在2024年4月的速動比率是多少？\\n10. 華紙在2024年4月的負債比率是多少？\\n\\nThe image is a monthly report on operational performance analysis, which can be used to analyze the financial status of Huazhi. Here are 10 questions that can be answered using this image:\\n\\n1.  What was Huazhi's revenue in April 2024?\\n2.  What was Huazhi's net profit in April 2024?\\n3.  What was Huazhi's gross profit margin in April 2024?\\n4.  What was Huazhi's cost of goods sold in April 2024?\\n5.  What were Huazhi's operating expenses in April 2024?\\n6.  What was Huazhi's revenue growth rate in April 2024?\\n7.  What was Huazhi's net profit growth rate in April 2024?\\n8.  What was Huazhi's current ratio in April 2024?\\n9.  What was Huazhi's quick ratio in April 2024?\\n10. What was Huazhi's debt-to-equity ratio in April 2024?\", mimetype='text/plain', start_char_idx=None, end_char_idx=None, text_template='{metadata_str}\\n\\n{content}', metadata_template='{key}: {value}', metadata_seperator='\\n'),\n",
       " Document(id_='98e8619f-2da7-4571-b2ec-d98a2fbc5fba', embedding=None, metadata={'dashboard_name': '投控經營分析', 'report_name': '華紙-營運績效分析月報', 'page_name': '事業部層', 'pic_name': '事業部層-華紙財務比率.jpg'}, excluded_embed_metadata_keys=[], excluded_llm_metadata_keys=[], relationships={}, text='Question: \\n這張表格顯示了華紙事業部層的營運績效分析月報，包含以下分析指標：\\n\\n1. **流動比率**: 衡量企業短期償債能力，目標為100%，實際為110%。\\n2. **負債/淨值比率**: 衡量企業的財務槓桿，目標為150%，實際為107%。\\n3. **利息保障倍數**: 衡量企業的利息支付能力，目標為3倍，實際為3.80。\\n4. **有形資產**: 衡量企業的實質資產規模，目標為100億元，實際為181億元。\\n5. **(總)資產周轉率**: 衡量企業資產的利用效率，目標為68%，實際為56%。\\n6. **應收帳款週轉天數**: 衡量企業應收帳款的回收速度，目標為58天，實際為65天。\\n7. **應付帳款週轉天數**: 衡量企業應付帳款的支付速度，目標為38天，實際為34天。\\n8. **存貨週轉天數**: 衡量企業存貨的管理效率，目標為69天，實際為103天。\\n\\n您可以根據您的需求查詢表格中您感興趣的指標，了解華紙事業部的營運狀況。\\n\\n\\nAnswer: \\n這張圖片顯示華紙-營運績效分析月報事業部層的營運績效指標數據，可以提出以下10個問題：\\n\\n1. **流動比率的目標值是多少？**\\n2. **2024年4月流動比率的實際值是多少？**\\n3. **2024年4月資產報酬率的實際值是多少？**\\n4. **利潤保障倍數的目標值是多少？**\\n5. **2024年4月利潤保障倍數的實際值是多少？**\\n6. **2024年4月存貨週轉天數的實際值是多少？**\\n7. **存貨週轉天數的目標值是多少？**\\n8. **2024年4月應收帳款週轉天數的實際值是多少？**\\n9. **應收帳款週轉天數的目標值是多少？**\\n10. **哪一個指標在2024年4月的實際值超過了目標值？**', mimetype='text/plain', start_char_idx=None, end_char_idx=None, text_template='{metadata_str}\\n\\n{content}', metadata_template='{key}: {value}', metadata_seperator='\\n'),\n",
       " Document(id_='90c691e8-bf5f-467d-91c1-a417a0c12cc5', embedding=None, metadata={'dashboard_name': '投控經營分析', 'report_name': '華紙-營運績效分析月報', 'page_name': '工廠層', 'pic_name': '工廠層-字卡2.jpg'}, excluded_embed_metadata_keys=[], excluded_llm_metadata_keys=[], relationships={}, text='Question: \\n這張圖片包含的指標有：\\n\\n- **全廠人數**: 768 人\\n- **工傷**: 0 次\\n- **罰款**: 0 元\\n\\n這張圖表展示了工廠層面的基本資料，可以讓相關人員快速了解工廠的人員數量、工傷次數和罰款金額等信息。\\n\\nAnswer: \\n這張圖片顯示了華紙-營運績效分析月報工廠層的一些相關分析指標集訊息，可以提出以下 10 個問題：\\n\\n1.  **這張圖片顯示的是哪個月的資料？**\\n2.  **這張圖片顯示的是哪個工廠的資料？**\\n3.  **全廠總人數為多少？**\\n4.  **工傷事故發生了多少次？**\\n5.  **營收為多少？**\\n6.  **工傷事故率是多少？**\\n7.  **營收與去年同期相比增長了多少？**\\n8.  **工傷事故率與去年同期相比如何？**\\n9.  **影響營收的主要因素是什麼？**\\n10. **如何降低工傷事故率？**', mimetype='text/plain', start_char_idx=None, end_char_idx=None, text_template='{metadata_str}\\n\\n{content}', metadata_template='{key}: {value}', metadata_seperator='\\n'),\n",
       " Document(id_='921ec145-09b9-4e9e-96de-ea0fbec5023e', embedding=None, metadata={'dashboard_name': '投控經營分析', 'report_name': '華紙-營運績效分析月報', 'page_name': '工廠層', 'pic_name': '工廠層-紙機損益.jpg'}, excluded_embed_metadata_keys=[], excluded_llm_metadata_keys=[], relationships={}, text='Question: \\n這張表包含工廠層的營運績效分析月報數據，指標包括：\\n\\n* **年度**\\n* **銷售量 (噸)**\\n* **銷售金額 (仟元)**\\n* **營業毛利 (仟元)**\\n* **營業利益 (仟元)**\\n* **淨利率 (%)**\\n\\n請確認您是否需要查看其他資訊，比如成本、銷售價格、生產量等。\\n\\n\\nAnswer: \\n以下是這個圖可以回答的 10 個問題：\\n\\n1. 在 PM18 中，總銷售額是多少？\\n2. 在 PM19 中，利潤率是多少？\\n3. 在 PM20 中，銷售額是多少？\\n4. 在 PM21 中，銷售額和利潤額之間的差額是多少？\\n5. 總體而言，銷售額是多少？\\n6. 總體而言，利潤率是多少？\\n7. 在哪一年份中，營運出現虧損？\\n8. 在哪一年份中，營運狀況最佳？\\n9. 銷售額和利潤額之間的關係是什麼？\\n10. 從 PM18 到 PM21，利潤率的變化趨勢是什麼？', mimetype='text/plain', start_char_idx=None, end_char_idx=None, text_template='{metadata_str}\\n\\n{content}', metadata_template='{key}: {value}', metadata_seperator='\\n'),\n",
       " Document(id_='df990b23-4acd-40ba-955f-30554c2f5724', embedding=None, metadata={'dashboard_name': '投控經營分析', 'report_name': '華紙-營運績效分析月報', 'page_name': '漿線生產狀況', 'pic_name': '漿線生產狀況-字卡1.jpg'}, excluded_embed_metadata_keys=[], excluded_llm_metadata_keys=[], relationships={}, text='Question: \\n這張圖片展示了關於 PU1 漿線生產狀況的營運績效分析月報，包含以下分析指標：\\n\\n* **平均日產量 (噸)**：311 噸\\n* **良率**：51.70%\\n* **總台數**：0 台\\n* **OEE**：0.00%\\n* **運轉率**：86.30%\\n* **停車時間 (Min)**：6,110 分鐘\\n\\n每個指標都附帶了 MoM (月環比) 和 YoY (年同比) 的變動數據，讓使用者可以更直觀地了解生產狀況的變化趨勢。\\n\\n希望以上資訊能幫助你查詢需要的指標。\\n\\n\\nAnswer: \\n這張圖片展示了有關華紙營運績效分析月報漿線生產狀況的一些分析指標，可以回答以下問題：\\n\\n1. 什麼是PU1的平均日產量？\\n2. PU1的良率是多少？\\n3. PU1的良率相比上個月和去年同期變化如何？\\n4. PU1的總合格數是多少？\\n5. PU1的總合格數相比上個月和去年同期變化如何？\\n6. PU1的OEE是多少？\\n7. PU1的OEE相比上個月和去年同期變化如何？\\n8. PU1的運轉率是多少？\\n9. PU1的運轉率相比上個月和去年同期變化如何？\\n10. PU1的停車時間是多少？\\n11. PU1的停車時間相比上個月和去年同期變化如何？', mimetype='text/plain', start_char_idx=None, end_char_idx=None, text_template='{metadata_str}\\n\\n{content}', metadata_template='{key}: {value}', metadata_seperator='\\n'),\n",
       " Document(id_='f4dbafd8-8053-4298-a03d-6b9fb641456c', embedding=None, metadata={'dashboard_name': '投控經營分析', 'report_name': '華紙-營運績效分析月報', 'page_name': '紙機生產狀況', 'pic_name': '紙機生產狀況-停機時間.jpg'}, excluded_embed_metadata_keys=[], excluded_llm_metadata_keys=[], relationships={}, text='Question: \\n這張圖表顯示的是 **紙機生產狀況的停機時間**。\\n\\n**分析指標包含：**\\n\\n* **停機時間（以分鐘計）**：每台紙機停機的總時間，以分鐘為單位。\\n* **停機原因**：每台紙機停機的原因，例如：新紙、修機、事故、保養、其他。\\n\\n**圖表中的資訊：**\\n\\n* **總計停機時間**：圖表中顯示總共停機時間為 584 分鐘。\\n* **各停機原因的停機時間**：圖表顯示不同停機原因的停機時間，例如：新紙停機 180 分鐘，修機停機 142 分鐘，事故停機 55 分鐘等等。\\n\\n**這張圖表可以幫助相關人員了解紙機生產狀況的停機時間和原因，進而找出改善停機時間的措施，提高生產效率。**\\n\\n**如果您想要查詢其他分析指標，例如紙機產量、生產成本等等，請查閱其他相關報告。**\\n\\n\\nAnswer: \\n這張圖片是一個圓餅圖，顯示了華紙紙機生產狀況的停機時間。以下是10個這個圖片可以回答的問題：\\n\\n1. **哪種紙機的停機時間最長？**\\n2. **哪種紙機的停機時間最短？**\\n3. **哪種紙機的停機時間佔總停機時間的比例最高？**\\n4. **哪種紙機的停機時間佔總停機時間的比例最低？**\\n5. **總停機時間是多少分鐘？**\\n6. **哪種紙機的停機時間超過了100分鐘？**\\n7. **哪種紙機的停機時間介於50到100分鐘之間？**\\n8. **哪種紙機的停機時間少於50分鐘？**\\n9. **停機時間最長的紙機占總停機時間的比例是多少？**\\n10. **停機時間最短的紙機占總停機時間的比例是多少？**\\n', mimetype='text/plain', start_char_idx=None, end_char_idx=None, text_template='{metadata_str}\\n\\n{content}', metadata_template='{key}: {value}', metadata_seperator='\\n'),\n",
       " Document(id_='32b37336-5070-451d-8483-f3d29598e55c', embedding=None, metadata={'dashboard_name': '投控經營分析', 'report_name': '華紙-營運績效分析月報', 'page_name': '紙機生產狀況', 'pic_name': '紙機生產狀況-字卡1.jpg'}, excluded_embed_metadata_keys=[], excluded_llm_metadata_keys=[], relationships={}, text='Question: \\n這張圖片包含了紙機生產狀況的幾個分析指標，分別是：\\n\\n* **平均日產量（噸）**：120 噸，月比減少 40 噸。\\n* **約當總產量（噸）**：3,504 噸，月比減少 3,398 噸。\\n* **OEE**：93.81%，月比增加 47.52%。\\n* **運轉率**：93.81%，月比增加 0.41%。\\n* **良率**：91.85%，月比增加 0.49%。\\n* **回饋率**：8.00%，月比減少 5.30%。\\n* **停車時間（Min）**：11,520 分鐘，月比減少 15,320 分鐘。\\n\\n\\n這些指標可以幫助相關人員了解紙機生產的整體狀況，例如生產效率、設備運作狀況、產品良率、停機時間等。 \\n\\n\\nAnswer: \\nThis image is a report about the monthly production performance of a paper mill, presenting several key performance indicators. Based on this image, here are 10 questions that can be answered:\\n\\n1. What is the average daily production volume (in tons)?\\n2. What is the total production volume (in tons)?\\n3. What is the OEE (Overall Equipment Effectiveness)?\\n4. What is the operating rate?\\n5. What is the yield rate?\\n6. What is the return rate?\\n7. How long is the average downtime (in minutes)?\\n8. How did these key performance indicators change compared to the previous month (MoM)?\\n9. How did these key performance indicators change compared to the same month last year (YoY)?\\n10. What are the trends in these key performance indicators? (e.g. increasing, decreasing, stable)', mimetype='text/plain', start_char_idx=None, end_char_idx=None, text_template='{metadata_str}\\n\\n{content}', metadata_template='{key}: {value}', metadata_seperator='\\n'),\n",
       " Document(id_='2c1490fd-2532-4336-a124-23e91d614924', embedding=None, metadata={'dashboard_name': '投控經營分析', 'report_name': '華紙-營運績效分析月報', 'page_name': '紙機生產狀況', 'pic_name': '紙機生產狀況-完整畫面.jpg'}, excluded_embed_metadata_keys=[], excluded_llm_metadata_keys=[], relationships={}, text='Question: \\n這張圖片包含華紙-營運績效分析月報紙機生產狀況的一些相關分析指標。\\n\\n**生產指標:**\\n\\n* **平均日產量(噸):**  顯示每天生產的紙張重量，可用來衡量生產效率。\\n* **約當產能(噸):**  表示設備在正常情況下所能生產的紙張重量，用來評估產能利用率。\\n* **OEE:**  綜合設備效能、品質效能和生產時間效能，反映生產線的整體效率。\\n* **設備稼動率:**  表示設備實際運作時間占計劃運作時間的比率，評估設備的利用程度。\\n* **良率:**  生產過程中合格產品的比例，反映產品品質狀況。\\n* **回修率:**  表示需要重新加工的產品數量占總產品數量的比例，顯示生產過程中產生的錯誤或缺陷。\\n* **停機時間(Min):**  設備停機的總時長，反映設備故障或維護等因素造成的生產延誤。\\n\\n**成本指標:**\\n\\n* **生產變動成本:**  與生產數量直接相關的成本，例如原材料、人工成本。\\n* **生產固定成本:**  與生產數量無關的成本，例如折舊、租金。\\n\\n**效率指標:**\\n\\n* **月產量趨勢圖(噸):**  顯示每月的生產量變化趨勢，用來觀察生產的穩定性和效率變化。\\n* **良率趨勢圖(%):**  顯示每月的良率變化趨勢，評估產品品質的穩定性。\\n* **停機時間趨勢圖(Min):**  顯示每月的停機時間變化趨勢，分析設備故障或維護問題的頻率和影響。\\n\\n**其他指標:**\\n\\n* **停機時間比例圖:**  顯示不同原因造成的停機時間比例，幫助分析停機問題的類型和原因。\\n\\n您可以根据您的需求，查看以上列出的指标，以判断这张表是否包含您感兴趣的信息。\\n\\nAnswer: \\n這張圖片呈現華紙-營運績效分析月報紙機生產狀況的一些相關分析指標集訊息，可以回答以下 10 個問題：\\n\\n1. **今年 1 月至 5 月的紙機生產量月平均是多少？** （根據月產量數據）\\n2. **今年 1 月至 5 月的紙機生產量月平均與去年同期相比變化如何？** （根據月產量數據的 YoY 變動）\\n3. **今年 1 月至 5 月的紙機生產設備整體效率（OEE）月平均是多少？** （根據 OEE 數據）\\n4. **今年 1 月至 5 月的紙機生產設備整體效率（OEE）月平均與去年同期相比變化如何？** （根據 OEE 數據的 YoY 變動）\\n5. **今年 1 月至 5 月的紙機生產設備運行效率月平均是多少？** （根據運行效率數據）\\n6. **今年 1 月至 5 月的紙機生產設備運行效率月平均與去年同期相比變化如何？** （根據運行效率數據的 YoY 變動）\\n7. **今年 1 月至 5 月的紙機生產設備良率月平均是多少？** （根據良率數據）\\n8. **今年 1 月至 5 月的紙機生產設備良率月平均與去年同期相比變化如何？** （根據良率數據的 YoY 變動）\\n9. **今年 1 月至 5 月的紙機生產設備回饋率月平均是多少？** （根據回饋率數據）\\n10. **今年 1 月至 5 月的紙機生產設備回饋率月平均與去年同期相比變化如何？** （根據回饋率數據的 YoY 變動）', mimetype='text/plain', start_char_idx=None, end_char_idx=None, text_template='{metadata_str}\\n\\n{content}', metadata_template='{key}: {value}', metadata_seperator='\\n'),\n",
       " Document(id_='5596e956-929e-4095-a082-98b343cca916', embedding=None, metadata={'dashboard_name': '投控經營分析', 'report_name': '華紙-營運績效分析月報', 'page_name': '紙機生產狀況', 'pic_name': '紙機生產狀況-生產固定成本.jpg'}, excluded_embed_metadata_keys=[], excluded_llm_metadata_keys=[], relationships={}, text='Question: \\nThe image contains a bar chart showing the breakdown of production costs by different categories. It does not include any numerical data or specific figures. However, it does show a comparison of production costs between April and May for each category. \\n\\nThe categories included are:\\n- 人員 (Personnel)\\n- 新舊 (New and Old)\\n- 維修 (Maintenance)\\n- 損耗 (Loss)\\n- 設備折旧 (Depreciation of Equipment)\\n- 其他 (Others)\\n\\nThis chart can be helpful for understanding the relative costs of different production activities and how they have changed over time. However, it does not provide detailed information about the specific costs or the reasons for any changes. \\n\\n\\nAnswer: \\n這張圖片顯示了華紙生產成本的月報數據，可以回答以下10個問題：\\n\\n1. **哪個部門的生產成本最高？**\\n2. **哪個月份的生產成本最高？**\\n3. **哪個部門的生產成本在兩個月之間變化最大？**\\n4. **哪個部門的生產成本在兩個月之間變化最小？**\\n5. **4月份的總生產成本是多少？**\\n6. **5月份的總生產成本是多少？**\\n7. **哪個部門在4月份的生產成本最低？**\\n8. **哪個部門在5月份的生產成本最低？**\\n9. **哪個部門的生產成本在4月份和5月份之間下降最多？**\\n10. **哪個部門的生產成本在4月份和5月份之間上升最多？**', mimetype='text/plain', start_char_idx=None, end_char_idx=None, text_template='{metadata_str}\\n\\n{content}', metadata_template='{key}: {value}', metadata_seperator='\\n'),\n",
       " Document(id_='8de6d63b-29d9-4486-b96b-5de7fafe3fbd', embedding=None, metadata={'dashboard_name': '投控經營分析', 'report_name': '華紙-營運績效分析月報', 'page_name': '銷售面', 'pic_name': '銷售面-完整畫面.jpg'}, excluded_embed_metadata_keys=[], excluded_llm_metadata_keys=[], relationships={}, text='Question: \\n這張圖片展示了華紙的營運績效分析月報銷售面的相關分析指標， 包含以下指標：\\n\\n* **銷售額**： 圖表顯示了 2024 年 01 月至 2024 年 07 月的銷售額， 可以觀察到每月銷售額的趨勢變化\\n* **毛利率**： 箱型圖展示了 2024 年 06 月的毛利率分佈情況\\n* **銷售區域**： 地圖展示了台灣和全球各個地區的銷售額， 可以觀察到哪個區域的銷售額最高\\n* **銷售產品**： 圖表展示了各產品類別的銷售額佔比， 可以觀察到哪個產品類別的銷售額最高\\n\\n此外，圖片中還有一些其他信息，例如：\\n\\n* 營運績效分析月報的日期\\n* 銷售額的單位\\n* 毛利率的計算方法\\n\\n如果您想查詢其他指標，例如成本、利润率等，请参考其他資料。\\n\\nAnswer: \\n以下是一些關於這張圖片可以回答的問題：\\n\\n1. 華紙的銷售收入在過去一年中呈現什麼趨勢？\\n2. 華紙在台灣各縣市銷售表現如何？\\n3. 華紙的主要銷售市場在哪裡？\\n4. 華紙的銷售額在2024年6月達到多少？\\n5. 華紙的銷售額在2024年4月到6月的平均值是多少？\\n6. 華紙的銷售額在2024年4月到6月之間的波動幅度有多大？\\n7. 華紙在台灣哪個縣市銷售額最高？\\n8. 華紙在全球哪個國家/地區的銷售額最高？\\n9. 華紙的銷售額在台灣和全球各區域的分布如何？\\n10. 華紙的銷售額和銷售量之間有什麼關係？\\n\\n請注意，圖片中沒有提供足夠的資訊來回答所有問題。 然而，這些問題可以幫助你更好地理解圖片中的數據，並進行更深入的分析。', mimetype='text/plain', start_char_idx=None, end_char_idx=None, text_template='{metadata_str}\\n\\n{content}', metadata_template='{key}: {value}', metadata_seperator='\\n'),\n",
       " Document(id_='40485feb-8452-4453-bacc-cf4476251158', embedding=None, metadata={'dashboard_name': '投控經營分析', 'report_name': '華紙-營運績效分析月報', 'page_name': '號機直接法損益', 'pic_name': '號機直接法損益-查詢條件.jpg'}, excluded_embed_metadata_keys=[], excluded_llm_metadata_keys=[], relationships={}, text='Question: \\n這張圖顯示了一個數據報表的篩選選項，但無法看到實際數據。 根據選項，我們可以推斷出包含以下一些分析指標：\\n\\n* **日期範圍:** 可以根據需要選擇特定日期範圍，例如月度或年度。\\n* **項目:** 可以選擇要查看的項目，例如營收、毛利、淨利等。\\n* **單位:** 可以選擇要顯示的單位，例如金額或百分比。\\n\\n這張表可能包含華紙的營運績效分析月報數據，其中包括號機直接法損益的相關分析指標，但無法確定具體包含哪些指標。 \\n\\n若要得知更詳細的資訊，需要查看實際報表內容。\\n\\n\\nAnswer: \\n這張圖片是一個報表查詢介面，僅顯示部分資訊，無法得知具體內容，故無法提問。\\n\\n這張圖片顯示了報表查詢介面，可以用来查询“華紙-營運績效分析月報號機直接法損益”的相关数据。 \\n\\n我可以提問以下問題：\\n\\n1. **這個報表查詢介面是用於什麼目的？**\\n2. **華紙的營運績效分析月報包含哪些指標？**\\n3. **報表查詢介面中，“選擇”下拉選單可以選取哪些值？**\\n4. **“查詢”按鈕的功能是什麼？**\\n5. **如何使用報表查詢介面查询“營運績效分析月報號機直接法損益”的数据？**\\n6. **報表查詢介面可以查詢哪些時間段的數據？**\\n7. **報表查询的结果可以导出吗？**\\n8. **报表查询介面的使用权限如何控制？**\\n9. **这个报表查询界面是由哪个系统提供？**\\n10. **如何获得关于华纸的运营数据分析？**', mimetype='text/plain', start_char_idx=None, end_char_idx=None, text_template='{metadata_str}\\n\\n{content}', metadata_template='{key}: {value}', metadata_seperator='\\n'),\n",
       " Document(id_='59c105e5-22e7-450a-9677-eb2e054f8597', embedding=None, metadata={'dashboard_name': '投控經營分析', 'report_name': '華紙-營運績效分析月報', 'page_name': '銷售面', 'pic_name': '銷售面-產品售價同業比較.jpg'}, excluded_embed_metadata_keys=[], excluded_llm_metadata_keys=[], relationships={}, text='Question: \\n這張圖片只顯示了一個箱型圖，沒有任何具體的分析指標。因此，無法確定它是否包含任何特定分析指標。 \\n\\n要了解這張圖表包含的指標，您需要查看其資料來源或更完整的報告。 \\n\\n以下是可能包含的指標範例：\\n\\n* **銷售額**:  以金額或數量表示的銷售額。\\n* **毛利率**:  銷售成本佔銷售額的百分比。\\n* **營業利益率**:  營業利益佔銷售額的百分比。\\n* **淨利率**:  淨利潤佔銷售額的百分比。\\n* **銷售量**:  銷售的產品或服務數量。\\n* **平均銷售價格**:  每個產品或服務的平均銷售價格。\\n* **顧客數量**:  客戶數量。\\n* **市場佔有率**:  公司在市場上的份額。\\n\\n請提供更多資訊，例如圖表的來源或標題，才能更精確地分析這張圖表包含哪些指標。\\n\\n\\nAnswer: \\n以下列出10个關於這張图片可以回答的問題：\\n\\n1.  这张图片展示了哪家公司的哪些数据？\\n2.  图表展示了哪段时间的数据？\\n3.  图表的纵轴和横轴分别代表什么？\\n4.  图表中显示的指标单位是什么？\\n5.  图表中显示了哪些具体的指标数值？\\n6.  图表中显示了哪些数据分析的趋势？\\n7.  这张图片中显示的指标是否可以用于评估公司的盈利能力？\\n8.  图表中的数据能反映出哪些市场竞争状况？\\n9.  图表中的数据能反映出哪些公司的运营风险？\\n10.  图表中的数据能反映出哪些公司的财务状况？', mimetype='text/plain', start_char_idx=None, end_char_idx=None, text_template='{metadata_str}\\n\\n{content}', metadata_template='{key}: {value}', metadata_seperator='\\n'),\n",
       " Document(id_='1ae77465-3e20-472f-a212-8d69ab5067c7', embedding=None, metadata={'dashboard_name': '投控經營分析', 'report_name': '華紙-營運績效分析月報', 'page_name': '漿線生產狀況', 'pic_name': '漿線生產狀況-生產固定成本.jpg'}, excluded_embed_metadata_keys=[], excluded_llm_metadata_keys=[], relationships={}, text='Question: \\n這張圖顯示的是生產固定成本的分析，包含了不同項目在4月和5月的成本，這些項目包括：\\n\\n* **人員**: 4月和5月的生產固定成本\\n* **折舊**: 4月和5月的生產固定成本\\n* **維修**: 4月和5月的生產固定成本\\n* **運輸**: 4月和5月的生產固定成本\\n* **能源與燃料**: 4月和5月的生產固定成本\\n* **其他**: 4月和5月的生產固定成本\\n\\n透過圖表可以快速了解不同項目在4月和5月的生產固定成本變化。 \\n\\n\\nAnswer: \\n以下是這張圖片可以回答的10個問題：\\n\\n1. 這是什麼類型的圖表？\\n2. 圖表顯示了什麼？\\n3. 圖表中每個條形代表什麼？\\n4. 圖表顯示了哪些月份的數據？\\n5. 4月份的人工成本是多少？\\n6. 5月份的銷售成本是多少？\\n7. 哪個月份的銷售成本最高？\\n8. 哪個月份的人工成本最低？\\n9.  哪項成本的變化最大？\\n10.  該圖表能提供什麼有關該公司經營情況的資訊？\\n\\n希望這些問題能幫助你理解圖表。', mimetype='text/plain', start_char_idx=None, end_char_idx=None, text_template='{metadata_str}\\n\\n{content}', metadata_template='{key}: {value}', metadata_seperator='\\n')]"
      ]
     },
     "execution_count": 13,
     "metadata": {},
     "output_type": "execute_result"
    }
   ],
   "source": [
    "documents"
   ]
  },
  {
   "cell_type": "code",
   "execution_count": 14,
   "metadata": {},
   "outputs": [],
   "source": [
    "# store in vectordb\n",
    "Settings.chunk_size = 512\n",
    "Settings.chunk_overlap = 64\n",
    "vector_store = ChromaVectorStore(chroma_collection=chroma_collection)\n",
    "storage_context = StorageContext.from_defaults(vector_store=vector_store)\n",
    "vector_store_index = VectorStoreIndex.from_documents(\n",
    "    documents=documents,\n",
    "    storage_context=storage_context,\n",
    "    embed_model=embeddings\n",
    ")"
   ]
  },
  {
   "cell_type": "code",
   "execution_count": 15,
   "metadata": {},
   "outputs": [
    {
     "data": {
      "text/markdown": [
       "Node ID: b5a8d032-bc64-4c94-9f41-4e62dd13c495\n",
       "Text: 每股淨值 * 股利發放率 * ROE * ROA * 總資產報酬率 * 負債報酬率 * 銷售毛利率 * 銷售費用率 *\n",
       "營業費用率 * 行政費用率 * 財務費用率 * 稅前利益率 * 淨利率 * 資產週轉率 * 存貨週轉率 * 應收帳款週轉率 *\n",
       "應付帳款週轉率  **目標指標:**  * 流動比率 * 負債比率 * 負債權益比率 * 稅後利率 * 淨利率 * 應收帳款週轉天數 *\n",
       "存貨週轉天數  **2024/04 實際值:**  * 110% * 107% * 3.80 * 181 億元 * 56% * 65 天 *\n",
       "34 天 * 103 天  **註:** 實際值僅為部分指標，圖片可能包含更多未列出的指標，請根據您的需求自行查找。\n",
       "Score:  0.271\n"
      ],
      "text/plain": [
       "<IPython.core.display.Markdown object>"
      ]
     },
     "metadata": {},
     "output_type": "display_data"
    }
   ],
   "source": [
    "# read from vectodb\n",
    "\n",
    "# load from disk\n",
    "db2 = chromadb.PersistentClient(path=\"./chroma_db\")\n",
    "chroma_collection = db2.get_or_create_collection(\"DashboardQA\")\n",
    "vector_store = ChromaVectorStore(chroma_collection=chroma_collection)\n",
    "index = VectorStoreIndex.from_vector_store(\n",
    "    vector_store,\n",
    "    embed_model=embeddings,\n",
    ")\n",
    "\n",
    "\n",
    "# Query Data from the persisted index\n",
    "query_engine = index.as_retriever(similarity_top_k=3)\n",
    "response = query_engine.retrieve(\"\"\"               \n",
    "哪張表格包含\n",
    "淨利、稅前淨利、稅後淨利\n",
    " \"\"\")\n",
    "display(Markdown(f\"{response[0]}\"))"
   ]
  },
  {
   "cell_type": "code",
   "execution_count": 16,
   "metadata": {},
   "outputs": [
    {
     "data": {
      "text/plain": [
       "'事業部層'"
      ]
     },
     "execution_count": 16,
     "metadata": {},
     "output_type": "execute_result"
    }
   ],
   "source": [
    "response[0].node.metadata['page_name']"
   ]
  }
 ],
 "metadata": {
  "kernelspec": {
   "display_name": "bibot",
   "language": "python",
   "name": "python3"
  },
  "language_info": {
   "codemirror_mode": {
    "name": "ipython",
    "version": 3
   },
   "file_extension": ".py",
   "mimetype": "text/x-python",
   "name": "python",
   "nbconvert_exporter": "python",
   "pygments_lexer": "ipython3",
   "version": "3.10.14"
  }
 },
 "nbformat": 4,
 "nbformat_minor": 2
}

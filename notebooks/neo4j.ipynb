{
 "cells": [
  {
   "cell_type": "code",
   "execution_count": 2,
   "metadata": {},
   "outputs": [],
   "source": [
    "from neo4j import GraphDatabase\n",
    "from py2neo import Graph, Node, Relationship"
   ]
  },
  {
   "cell_type": "code",
   "execution_count": 2,
   "metadata": {},
   "outputs": [],
   "source": [
    "URI = \"bolt://138.3.214.21:7687\"\n",
    "AUTH = (\"neo4j\", \"yfy12345\")\n",
    "\n",
    "with GraphDatabase.driver(URI, auth=AUTH) as driver:\n",
    "    driver.verify_connectivity()"
   ]
  },
  {
   "cell_type": "markdown",
   "metadata": {},
   "source": [
    "### Change password when first login"
   ]
  },
  {
   "cell_type": "code",
   "execution_count": 3,
   "metadata": {},
   "outputs": [],
   "source": [
    "# URI = \"bolt://138.3.214.21:7687\"\n",
    "# OLD_PASSWORD = \"neo4j\"  # Replace with your current password\n",
    "# NEW_PASSWORD = \"yfy12345\"  # Replace with your desired new password\n",
    "\n",
    "# # Cypher query to change the password\n",
    "# query = f\"ALTER CURRENT USER SET PASSWORD FROM '{OLD_PASSWORD}' TO '{NEW_PASSWORD}'\"\n",
    "\n",
    "# try:\n",
    "#     with GraphDatabase.driver(URI, auth=(\"neo4j\", OLD_PASSWORD)) as driver:\n",
    "#         with driver.session(database=\"system\") as session:\n",
    "#             session.run(query)\n",
    "#     print(\"Password changed successfully.\")\n",
    "# except Exception as e:\n",
    "#     print(\"Error occurred while changing password:\", e)\n"
   ]
  },
  {
   "cell_type": "code",
   "execution_count": 66,
   "metadata": {},
   "outputs": [
    {
     "name": "stdout",
     "output_type": "stream",
     "text": [
      "Current databases:\n",
      "neo4j\n",
      "system\n"
     ]
    }
   ],
   "source": [
    "# Define a Cypher query to list databases\n",
    "query = \"SHOW DATABASES\"\n",
    "\n",
    "with GraphDatabase.driver(URI, auth=AUTH) as driver:\n",
    "    with driver.session() as session:\n",
    "        result = session.run(query)\n",
    "        databases = [record[\"name\"] for record in result]\n",
    "\n",
    "print(\"Current databases:\")\n",
    "for db in databases:\n",
    "    print(db)"
   ]
  },
  {
   "cell_type": "code",
   "execution_count": 5,
   "metadata": {},
   "outputs": [
    {
     "name": "stderr",
     "output_type": "stream",
     "text": [
      "C:\\Users\\sean.chang\\AppData\\Local\\Temp\\ipykernel_28348\\883350203.py:4: DeprecationWarning: Using a driver after it has been closed is deprecated. Future versions of the driver will raise an error.\n",
      "  with driver.session() as session:\n",
      "C:\\Users\\sean.chang\\AppData\\Local\\Temp\\ipykernel_28348\\883350203.py:5: DeprecationWarning: write_transaction has been renamed to execute_write\n",
      "  session.write_transaction(create_table_node, 'Table1')\n",
      "C:\\Users\\sean.chang\\AppData\\Local\\Temp\\ipykernel_28348\\883350203.py:6: DeprecationWarning: write_transaction has been renamed to execute_write\n",
      "  session.write_transaction(create_table_node, 'Table2')\n"
     ]
    }
   ],
   "source": [
    "# def create_table_node(tx, name):\n",
    "#     tx.run(\"CREATE (:Table {name: $name})\", name=name)\n",
    "\n",
    "# with driver.session() as session:\n",
    "#     session.write_transaction(create_table_node, 'Table1')\n",
    "#     session.write_transaction(create_table_node, 'Table2')"
   ]
  },
  {
   "cell_type": "code",
   "execution_count": 80,
   "metadata": {},
   "outputs": [
    {
     "name": "stderr",
     "output_type": "stream",
     "text": [
      "C:\\Users\\sean.chang\\AppData\\Local\\Temp\\ipykernel_28348\\3336516015.py:9: DeprecationWarning: Using a driver after it has been closed is deprecated. Future versions of the driver will raise an error.\n",
      "  with driver.session() as session:\n",
      "C:\\Users\\sean.chang\\AppData\\Local\\Temp\\ipykernel_28348\\3336516015.py:10: DeprecationWarning: write_transaction has been renamed to execute_write\n",
      "  session.write_transaction(create_table_node)\n",
      "Failed to write data to connection IPv4Address(('138.3.214.21', 7687)) (ResolvedIPv4Address(('138.3.214.21', 7687)))\n",
      "Transaction failed and will be retried in 0.8841682144273463s (Failed to write data to connection IPv4Address(('138.3.214.21', 7687)) (ResolvedIPv4Address(('138.3.214.21', 7687))))\n"
     ]
    }
   ],
   "source": [
    "# def create_table_node(tx):\n",
    "#     tx.run(\"\"\"CREATE (carbon_ems01_df:Table {name: 'WACES_CARBON_EMS01_DF_V', \n",
    "#                                 select_1: 'WACES_CARBON_EMS_DF', select_1_on: 'RPT_USED = \"ESG碳排分析\"', \n",
    "#                                 merge_1: 'DIM_ORG', merge_1_on: 'ORG_COSE'})\"\"\")\n",
    "\n",
    "def create_table_node(tx):\n",
    "    tx.run(\"\"\"CREATE (carbon_ems01_df:Table {name: 'WACES_CARBON_EMS01_DF_V'})\"\"\")\n",
    "\n",
    "with driver.session() as session:\n",
    "    session.write_transaction(create_table_node)\n"
   ]
  },
  {
   "cell_type": "code",
   "execution_count": 81,
   "metadata": {},
   "outputs": [
    {
     "name": "stderr",
     "output_type": "stream",
     "text": [
      "C:\\Users\\sean.chang\\AppData\\Local\\Temp\\ipykernel_28348\\3118900080.py:4: DeprecationWarning: Using a driver after it has been closed is deprecated. Future versions of the driver will raise an error.\n",
      "  with driver.session() as session:\n",
      "C:\\Users\\sean.chang\\AppData\\Local\\Temp\\ipykernel_28348\\3118900080.py:5: DeprecationWarning: write_transaction has been renamed to execute_write\n",
      "  session.write_transaction(create_table_node)\n"
     ]
    }
   ],
   "source": [
    "def create_table_node(tx):\n",
    "    tx.run(\"\"\"CREATE (carbon_ems_df:Table {name: 'WACES_CARBON_EMS_DF'})\"\"\")\n",
    "\n",
    "with driver.session() as session:\n",
    "    session.write_transaction(create_table_node)\n"
   ]
  },
  {
   "cell_type": "code",
   "execution_count": 82,
   "metadata": {},
   "outputs": [
    {
     "name": "stderr",
     "output_type": "stream",
     "text": [
      "C:\\Users\\sean.chang\\AppData\\Local\\Temp\\ipykernel_28348\\1221130713.py:4: DeprecationWarning: Using a driver after it has been closed is deprecated. Future versions of the driver will raise an error.\n",
      "  with driver.session() as session:\n",
      "C:\\Users\\sean.chang\\AppData\\Local\\Temp\\ipykernel_28348\\1221130713.py:5: DeprecationWarning: write_transaction has been renamed to execute_write\n",
      "  session.write_transaction(create_table_node)\n"
     ]
    }
   ],
   "source": [
    "def create_table_node(tx):\n",
    "    tx.run(\"\"\"CREATE (dim_org:Table {name: 'DIM_ORG'})\"\"\")\n",
    "\n",
    "with driver.session() as session:\n",
    "    session.write_transaction(create_table_node)"
   ]
  },
  {
   "cell_type": "code",
   "execution_count": null,
   "metadata": {},
   "outputs": [],
   "source": []
  },
  {
   "cell_type": "code",
   "execution_count": null,
   "metadata": {},
   "outputs": [],
   "source": [
    "SELECT\n",
    "    ORG.ORG_NAME,\n",
    "    CHECKTYPE_CODE,\n",
    "    CHECKTYPE_NAME,\n",
    "    CHECK_DATE,\n",
    "    PRODUCT_CODE,\n",
    "    PRODUCT_NAME,\n",
    "    EMISSION_CATEGORY,\n",
    "    CO2_QTY\n",
    "  FROM WACES_CARBON_EMS_DF F,\n",
    "       DIM_ORG  ORG\n",
    " WHERE 1=1\n",
    "   AND ORG.RPT_USED = 'ESG碳排分析'\n",
    "   AND F.ORG_CODE = ORG.ORG_CODE"
   ]
  },
  {
   "cell_type": "code",
   "execution_count": 84,
   "metadata": {},
   "outputs": [
    {
     "name": "stderr",
     "output_type": "stream",
     "text": [
      "C:\\Users\\sean.chang\\AppData\\Local\\Temp\\ipykernel_28348\\3402059035.py:6: DeprecationWarning: Using a driver after it has been closed is deprecated. Future versions of the driver will raise an error.\n",
      "  with driver.session() as session:\n",
      "C:\\Users\\sean.chang\\AppData\\Local\\Temp\\ipykernel_28348\\3402059035.py:7: DeprecationWarning: read_transaction has been renamed to execute_read\n",
      "  nodes = session.read_transaction(get_all_nodes)\n",
      "Failed to write data to connection IPv4Address(('138.3.214.21', 7687)) (ResolvedIPv4Address(('138.3.214.21', 7687)))\n"
     ]
    },
    {
     "name": "stdout",
     "output_type": "stream",
     "text": [
      "[{'n': {'name': 'WACES_CARBON_EMS01_DF_V'}}, {'n': {'name': 'WACES_CARBON_EMS_DF'}}, {'n': {'name': 'DIM_ORG'}}]\n"
     ]
    }
   ],
   "source": [
    "def get_all_nodes(tx):\n",
    "    result = tx.run(\"MATCH (n) RETURN n\")\n",
    "\n",
    "    return result.data()\n",
    "\n",
    "with driver.session() as session:\n",
    "    nodes = session.read_transaction(get_all_nodes)\n",
    "    print(nodes)"
   ]
  },
  {
   "cell_type": "code",
   "execution_count": 3,
   "metadata": {},
   "outputs": [],
   "source": [
    "# Create graph\n",
    "graph = Graph(host=\"138.3.214.21\", auth=(\"neo4j\",\"yfy12345\"))\n",
    "\n",
    "# \"bolt://138.3.214.21:7687\""
   ]
  },
  {
   "cell_type": "code",
   "execution_count": 116,
   "metadata": {},
   "outputs": [],
   "source": [
    "# Create the nodes\n",
    "carbon_ems01_df_v = Node(\"Table\", name=\"WACES_CARBON_EMS01_DF_V\")\n",
    "carbon_ems_df = Node(\"Table\", name=\"WACES_CARBON_EMS_DF\")\n",
    "dim_org = Node(\"Table\", name=\"DIM_ORG\")\n",
    "\n",
    "# Create the relationship\n",
    "property_dictionary = {\"merge\": \"org_code\"}\n",
    "relationship = Relationship(carbon_ems01_df_v, \"FROM\", carbon_ems_df, **property_dictionary)\n",
    "\n",
    "# Create the nodes and relationship in the graph\n",
    "graph.create(relationship)\n",
    "\n",
    "\n",
    "# Create the relationship\n",
    "property_dictionary = {\"condition\": \"RPT_USED = ESG碳排分析\"}\n",
    "relationship = Relationship(carbon_ems01_df_v, \"FROM\", dim_org, **property_dictionary)\n",
    "\n",
    "# Create the nodes and relationship in the graph\n",
    "graph.create(relationship)"
   ]
  },
  {
   "cell_type": "code",
   "execution_count": 118,
   "metadata": {},
   "outputs": [],
   "source": [
    "# Query to match the nodes and relationship\n",
    "query = \"\"\"\n",
    "MATCH (a:Table {name: 'WACES_CARBON_EMS_DF'})-[r:FROM]->(b:Table {name: 'DIM_ORG'})\n",
    "RETURN a, r, b\n",
    "\"\"\"\n",
    "\n",
    "# Execute the query and get the result\n",
    "result = graph.run(query)\n",
    "\n",
    "# Iterate over the result and print it\n",
    "for record in result:\n",
    "    print(f\"Node A: {record['a']}\")\n",
    "    print(f\"Relationship: {record['r']}\")\n",
    "    print(f\"Node B: {record['b']}\")\n"
   ]
  },
  {
   "cell_type": "code",
   "execution_count": 119,
   "metadata": {},
   "outputs": [
    {
     "name": "stdout",
     "output_type": "stream",
     "text": [
      "Node: (_3:Table {name: 'WACES_CARBON_EMS01_DF_V'})\n",
      "Relationship: (WACES_CARBON_EMS01_DF_V)-[:FROM {merge: 'org_code'}]->(WACES_CARBON_EMS_DF)\n",
      "Connected Node: (_4:Table {name: 'WACES_CARBON_EMS_DF'})\n",
      "Node: (_3:Table {name: 'WACES_CARBON_EMS01_DF_V'})\n",
      "Relationship: (WACES_CARBON_EMS01_DF_V)-[:FROM {condition: 'RPT_USED = ESG\\u78b3\\u6392\\u5206\\u6790'}]->(DIM_ORG)\n",
      "Connected Node: (_5:Table {name: 'DIM_ORG'})\n"
     ]
    }
   ],
   "source": [
    "# Define the query\n",
    "query = \"\"\"\n",
    "MATCH (n:Table {name: 'WACES_CARBON_EMS01_DF_V'})-[r]->(m)\n",
    "RETURN n, r, m\n",
    "\"\"\"\n",
    "\n",
    "# Execute the query and get the result\n",
    "result = graph.run(query)\n",
    "\n",
    "# Iterate over the result and print it\n",
    "for record in result:\n",
    "    print(f\"Node: {record['n']}\")\n",
    "    print(f\"Relationship: {record['r']}\")\n",
    "    print(f\"Connected Node: {record['m']}\")\n"
   ]
  },
  {
   "cell_type": "code",
   "execution_count": 4,
   "metadata": {},
   "outputs": [
    {
     "data": {
      "text/html": [
       "(No data)"
      ],
      "text/plain": [
       "(No data)"
      ]
     },
     "execution_count": 4,
     "metadata": {},
     "output_type": "execute_result"
    }
   ],
   "source": [
    "# Delete all relationships\n",
    "graph.run(\"MATCH ()-[r]->() DELETE r\")\n",
    "\n",
    "# Delete all nodes\n",
    "graph.run(\"MATCH (n) DELETE n\")\n"
   ]
  },
  {
   "cell_type": "code",
   "execution_count": 120,
   "metadata": {},
   "outputs": [
    {
     "name": "stdout",
     "output_type": "stream",
     "text": [
      "Node A Name: WACES_CARBON_EMS01_DF_V\n",
      "Relationship Property (merge): org_code\n",
      "Node B Name: WACES_CARBON_EMS_DF\n",
      "Node A Name: WACES_CARBON_EMS01_DF_V\n",
      "Relationship Property (condition): RPT_USED = ESG碳排分析\n",
      "Node B Name: DIM_ORG\n"
     ]
    }
   ],
   "source": [
    "# Assume the relationships have been created already\n",
    "\n",
    "# Fetch and print relationships\n",
    "result = graph.run(\"\"\"\n",
    "MATCH (a:Table {name: 'WACES_CARBON_EMS01_DF_V'})-[r:FROM]->(b)\n",
    "RETURN a, r, b\n",
    "\"\"\")\n",
    "\n",
    "# Iterate and print with proper decoding\n",
    "for record in result:\n",
    "    node_a = record['a']\n",
    "    relationship = record['r']\n",
    "    node_b = record['b']\n",
    "\n",
    "    print(f\"Node A Name: {node_a['name']}\")\n",
    "    for key, value in relationship.items():\n",
    "        print(f\"Relationship Property ({key}): {value}\")\n",
    "    print(f\"Node B Name: {node_b['name']}\")\n"
   ]
  },
  {
   "cell_type": "code",
   "execution_count": 125,
   "metadata": {},
   "outputs": [
    {
     "data": {
      "text/html": [
       "<table><tr><th>a</th><th>r</th><th>b</th></tr><tr><td style=\"text-align:left\">(_3:Table {name: &#039;WACES_CARBON_EMS01_DF_V&#039;})</td><td style=\"text-align:left\">(WACES_CARBON_EMS01_DF_V)-[:FROM {merge: &#039;org_code&#039;}]-&gt;(WACES_CARBON_EMS_DF)</td><td style=\"text-align:left\">(_4:Table {name: &#039;WACES_CARBON_EMS_DF&#039;})</td></tr><tr><td style=\"text-align:left\">(_3:Table {name: &#039;WACES_CARBON_EMS01_DF_V&#039;})</td><td style=\"text-align:left\">(WACES_CARBON_EMS01_DF_V)-[:FROM {condition: &#039;RPT_USED = ESG\\u78b3\\u6392\\u5206\\u6790&#039;}]-&gt;(DIM_ORG)</td><td style=\"text-align:left\">(_5:Table {name: &#039;DIM_ORG&#039;})</td></tr></table>"
      ],
      "text/plain": [
       " a                                            | r                                                                                                  | b                                        \n",
       "----------------------------------------------|----------------------------------------------------------------------------------------------------|------------------------------------------\n",
       " (_3:Table {name: 'WACES_CARBON_EMS01_DF_V'}) | (WACES_CARBON_EMS01_DF_V)-[:FROM {merge: 'org_code'}]->(WACES_CARBON_EMS_DF)                       | (_4:Table {name: 'WACES_CARBON_EMS_DF'}) \n",
       " (_3:Table {name: 'WACES_CARBON_EMS01_DF_V'}) | (WACES_CARBON_EMS01_DF_V)-[:FROM {condition: 'RPT_USED = ESG\\u78b3\\u6392\\u5206\\u6790'}]->(DIM_ORG) | (_5:Table {name: 'DIM_ORG'})             "
      ]
     },
     "execution_count": 125,
     "metadata": {},
     "output_type": "execute_result"
    }
   ],
   "source": [
    "result = graph.run(\"\"\"\n",
    "MATCH (a:Table {name: 'WACES_CARBON_EMS01_DF_V'})-[r:FROM]-(b)\n",
    "RETURN a, r, b\n",
    "\"\"\")\n",
    "result"
   ]
  }
 ],
 "metadata": {
  "kernelspec": {
   "display_name": "kr",
   "language": "python",
   "name": "python3"
  },
  "language_info": {
   "codemirror_mode": {
    "name": "ipython",
    "version": 3
   },
   "file_extension": ".py",
   "mimetype": "text/x-python",
   "name": "python",
   "nbconvert_exporter": "python",
   "pygments_lexer": "ipython3",
   "version": "3.10.15"
  }
 },
 "nbformat": 4,
 "nbformat_minor": 2
}

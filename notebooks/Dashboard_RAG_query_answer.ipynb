{
 "cells": [
  {
   "cell_type": "code",
   "execution_count": 22,
   "metadata": {},
   "outputs": [],
   "source": [
    "import os\n",
    "import pandas as pd\n",
    "from datetime import datetime\n",
    "\n",
    "from utils import read_config\n",
    "\n",
    "from llama_index.core import VectorStoreIndex, StorageContext, Settings\n",
    "from llama_index.vector_stores.chroma import ChromaVectorStore\n",
    "from llama_index.embeddings.huggingface import HuggingFaceEmbedding\n",
    "from llama_index.core.vector_stores.types import VectorStoreQuery\n",
    "\n",
    "import chromadb\n",
    "\n",
    "from langchain.prompts import PromptTemplate\n",
    "from langchain.prompts.chat import (\n",
    "    ChatPromptTemplate,\n",
    "    SystemMessagePromptTemplate,\n",
    "    HumanMessagePromptTemplate\n",
    ")\n",
    "\n",
    "import google.generativeai as genai\n",
    "from langchain_google_genai import (\n",
    "    ChatGoogleGenerativeAI,\n",
    "    HarmBlockThreshold,\n",
    "    HarmCategory,\n",
    ")"
   ]
  },
  {
   "cell_type": "code",
   "execution_count": 23,
   "metadata": {},
   "outputs": [],
   "source": [
    "info_path = '.env/info.json'\n",
    "info = read_config(info_path)\n",
    "\n",
    "# oracle_agent = OracleAgent(info['DW_conn_info'])\n",
    "\n",
    "API_KEY= info['gkey']\n",
    "os.environ[\"GOOGLE_API_KEY\"] = API_KEY"
   ]
  },
  {
   "cell_type": "code",
   "execution_count": 3,
   "metadata": {},
   "outputs": [],
   "source": [
    "model_name = \"sentence-transformers/distiluse-base-multilingual-cased-v1\"\n",
    "embed_model = HuggingFaceEmbedding(model_name=model_name)"
   ]
  },
  {
   "cell_type": "code",
   "execution_count": 4,
   "metadata": {},
   "outputs": [],
   "source": [
    "# load vectordb\n",
    "db2 = chromadb.PersistentClient(path=\"./chroma_db\")\n",
    "chroma_collection = db2.get_or_create_collection(\"DashboardQA\")\n",
    "vector_store = ChromaVectorStore(chroma_collection=chroma_collection)\n",
    "index = VectorStoreIndex.from_vector_store(\n",
    "    vector_store,\n",
    "    embed_model=embed_model,\n",
    ")\n"
   ]
  },
  {
   "cell_type": "code",
   "execution_count": 145,
   "metadata": {},
   "outputs": [],
   "source": [
    "#query = \"我要看稅前淨利、損益表、資產負債表的數據要看哪張表\"\n",
    "query = \"我要看PM01相關數據\"\n",
    "embedding_vector = embed_model.get_query_embedding(query)\n",
    "query_vector = VectorStoreQuery(query_embedding=embedding_vector, similarity_top_k=1)"
   ]
  },
  {
   "cell_type": "code",
   "execution_count": 146,
   "metadata": {},
   "outputs": [],
   "source": [
    "result = vector_store.query(query_vector)"
   ]
  },
  {
   "cell_type": "code",
   "execution_count": 147,
   "metadata": {},
   "outputs": [
    {
     "name": "stdout",
     "output_type": "stream",
     "text": [
      "VectorStoreQueryResult(nodes=[TextNode(id_='74f8a68c-9a4e-46fe-84c8-d50ebd3c62e7', embedding=None, metadata={'dashboard_name': '投控經營分析', 'report_name': '華紙-營運績效分析日報', 'page_name': '生產面', 'pic_name': '紙機生產指標.jpg'}, excluded_embed_metadata_keys=[], excluded_llm_metadata_keys=[], relationships={<NodeRelationship.SOURCE: '1'>: RelatedNodeInfo(node_id='797ee95e-af93-4676-8d9a-58ffe3077932', node_type=<ObjectType.DOCUMENT: '4'>, metadata={'dashboard_name': '投控經營分析', 'report_name': '華紙-營運績效分析日報', 'page_name': '生產面', 'pic_name': '紙機生產指標.jpg'}, hash='216c840d57d630a12b8d1d6686b11f06ceaa7bf9f3cda90f4b2c78ad5b8322b4'), <NodeRelationship.PREVIOUS: '2'>: RelatedNodeInfo(node_id='d6d65046-db04-42f2-aee6-805735482914', node_type=<ObjectType.TEXT: '1'>, metadata={'dashboard_name': '投控經營分析', 'report_name': '華紙-營運績效分析日報', 'page_name': '生產面', 'pic_name': '紙機生產指標.jpg'}, hash='28f685075b97c5872a931966d155ede788bcd87a4b65b183f2fb0b55b3106d01')}, text='Answer: \\n這張圖顯示了紙漿生產的相關數據，從圖中可以得到以下資訊：\\n\\n1. **什麼是 PM01？** PM01 是什麼機台或生產線的代號？\\n2. **每日生產量是多少？** 每日生產量指的是什麼？是重量還是數量？\\n3. **生產效率如何？** 生產效率的指標是什麼？\\n4. **產出噸數是多少？** 產出噸數指的是什麼產品的產量？\\n5. **生產速度是多少？** 生產速度的單位是什麼？\\n6. **哪些因素影響生產效率？** 例如停機時間、故障率等等。\\n7. **哪些因素影響產出噸數？** 例如原料品質、設備狀態等等。\\n8. **如何提高生產效率？** 可以從哪些方面改善生產效率？\\n9. **如何提高產出噸數？** 可以從哪些方面提高產出噸數？\\n10. **如何降低生產成本？** 可以從哪些方面降低生產成本？', mimetype='text/plain', start_char_idx=213, end_char_idx=575, text_template='{metadata_str}\\n\\n{content}', metadata_template='{key}: {value}', metadata_seperator='\\n')], similarities=[0.25324358373229755], ids=['74f8a68c-9a4e-46fe-84c8-d50ebd3c62e7'])\n"
     ]
    }
   ],
   "source": [
    "print(result)"
   ]
  },
  {
   "cell_type": "code",
   "execution_count": 149,
   "metadata": {},
   "outputs": [
    {
     "data": {
      "text/plain": [
       "'Answer: \\n這張圖顯示了紙漿生產的相關數據，從圖中可以得到以下資訊：\\n\\n1. **什麼是 PM01？** PM01 是什麼機台或生產線的代號？\\n2. **每日生產量是多少？** 每日生產量指的是什麼？是重量還是數量？\\n3. **生產效率如何？** 生產效率的指標是什麼？\\n4. **產出噸數是多少？** 產出噸數指的是什麼產品的產量？\\n5. **生產速度是多少？** 生產速度的單位是什麼？\\n6. **哪些因素影響生產效率？** 例如停機時間、故障率等等。\\n7. **哪些因素影響產出噸數？** 例如原料品質、設備狀態等等。\\n8. **如何提高生產效率？** 可以從哪些方面改善生產效率？\\n9. **如何提高產出噸數？** 可以從哪些方面提高產出噸數？\\n10. **如何降低生產成本？** 可以從哪些方面降低生產成本？'"
      ]
     },
     "execution_count": 149,
     "metadata": {},
     "output_type": "execute_result"
    }
   ],
   "source": [
    "result.nodes[0].text"
   ]
  },
  {
   "cell_type": "code",
   "execution_count": 150,
   "metadata": {},
   "outputs": [
    {
     "data": {
      "text/plain": [
       "{'dashboard_name': '投控經營分析',\n",
       " 'report_name': '華紙-營運績效分析日報',\n",
       " 'page_name': '生產面',\n",
       " 'pic_name': '紙機生產指標.jpg'}"
      ]
     },
     "execution_count": 150,
     "metadata": {},
     "output_type": "execute_result"
    }
   ],
   "source": [
    "result.nodes[0].metadata"
   ]
  },
  {
   "cell_type": "markdown",
   "metadata": {},
   "source": [
    "### Combine with LangChain"
   ]
  },
  {
   "cell_type": "code",
   "execution_count": 151,
   "metadata": {},
   "outputs": [],
   "source": [
    "# prompt_template = \"\"\"\n",
    "# 根據retrieved中的內容來回答question的問題。如果你不知道答案則說不知道，不要造假答案。\n",
    "\n",
    "# {retrieved}\n",
    "\n",
    "# Question: {question}\n",
    "# Helpful answer:\n",
    "# \"\"\"\n",
    "\n",
    "# PROMPT = PromptTemplate(template=prompt_template, input_variables=['retrieved', 'question'])\n",
    "\n",
    "# \"。如果你不知道答案則說不知道，不要造假答案。\"\n",
    "system_template = \"\"\"\n",
    "你現在是專業的儀表板查找跟整理高手，僅需根據Retrieved中的內容來回答question的問題，問題主要是要從哪張儀表表找到滿足Question中的內容，不是在詢問相關數字\n",
    "\n",
    "例如:\n",
    "####Question為\n",
    "# 我要看稅前淨利、損益表、資產負債表的數據要看哪張表時，\n",
    "####Retrieved為\n",
    "# dashboard_name: 投控經營分析',\n",
    "# 'report_name': '華紙-營運績效分析月報',\n",
    "# 'page_name': '事業部層',\n",
    "# 'pic_name': '事業部層-完整畫面.jpg''\n",
    "此時答案是'儀錶板投控經營分析中的華紙-營運績效分析月報，裡面的事業部層分頁'\n",
    "\n",
    "Retrieved: {retrieved}\n",
    "\n",
    "Question: {question}\n",
    "\"\"\"\n",
    "\n",
    "messages = [\n",
    "    SystemMessagePromptTemplate.from_template(system_template),\n",
    "    HumanMessagePromptTemplate.from_template(\"{question}\")\n",
    "]\n",
    "\n",
    "CHAT_PROMPT = ChatPromptTemplate.from_messages(messages)\n"
   ]
  },
  {
   "cell_type": "code",
   "execution_count": 152,
   "metadata": {},
   "outputs": [],
   "source": [
    "llm = ChatGoogleGenerativeAI(\n",
    "    model=\"gemini-pro\",\n",
    "    convert_system_message_to_human=True,\n",
    "    safety_settings={\n",
    "        HarmCategory.HARM_CATEGORY_HATE_SPEECH: HarmBlockThreshold.BLOCK_NONE,\n",
    "        HarmCategory.HARM_CATEGORY_HARASSMENT: HarmBlockThreshold.BLOCK_NONE,\n",
    "        HarmCategory.HARM_CATEGORY_DANGEROUS_CONTENT: HarmBlockThreshold.BLOCK_NONE,\n",
    "    },\n",
    ")"
   ]
  },
  {
   "cell_type": "code",
   "execution_count": 153,
   "metadata": {},
   "outputs": [],
   "source": [
    "chain = CHAT_PROMPT | llm"
   ]
  },
  {
   "cell_type": "code",
   "execution_count": 154,
   "metadata": {},
   "outputs": [],
   "source": [
    "input_data = {\n",
    "    \"retrieved\": result.nodes[0].metadata,\n",
    "    \"question\": query\n",
    "}"
   ]
  },
  {
   "cell_type": "code",
   "execution_count": 155,
   "metadata": {},
   "outputs": [
    {
     "data": {
      "text/plain": [
       "{'retrieved': {'dashboard_name': '投控經營分析',\n",
       "  'report_name': '華紙-營運績效分析日報',\n",
       "  'page_name': '生產面',\n",
       "  'pic_name': '紙機生產指標.jpg'},\n",
       " 'question': '我要看PM01相關數據'}"
      ]
     },
     "execution_count": 155,
     "metadata": {},
     "output_type": "execute_result"
    }
   ],
   "source": [
    "input_data"
   ]
  },
  {
   "cell_type": "code",
   "execution_count": 156,
   "metadata": {},
   "outputs": [
    {
     "name": "stderr",
     "output_type": "stream",
     "text": [
      "e:\\miniconda3\\envs\\bibot\\lib\\site-packages\\langchain_google_genai\\chat_models.py:350: UserWarning: Convert_system_message_to_human will be deprecated!\n",
      "  warnings.warn(\"Convert_system_message_to_human will be deprecated!\")\n"
     ]
    }
   ],
   "source": [
    "llm_response = chain.invoke(input_data)"
   ]
  },
  {
   "cell_type": "code",
   "execution_count": 157,
   "metadata": {},
   "outputs": [
    {
     "name": "stdout",
     "output_type": "stream",
     "text": [
      "儀錶板投控經營分析中的華紙-營運績效分析日報，裡面的生產面分頁\n"
     ]
    }
   ],
   "source": [
    "print(llm_response.content)"
   ]
  }
 ],
 "metadata": {
  "kernelspec": {
   "display_name": "bibot",
   "language": "python",
   "name": "python3"
  },
  "language_info": {
   "codemirror_mode": {
    "name": "ipython",
    "version": 3
   },
   "file_extension": ".py",
   "mimetype": "text/x-python",
   "name": "python",
   "nbconvert_exporter": "python",
   "pygments_lexer": "ipython3",
   "version": "3.10.14"
  }
 },
 "nbformat": 4,
 "nbformat_minor": 2
}
